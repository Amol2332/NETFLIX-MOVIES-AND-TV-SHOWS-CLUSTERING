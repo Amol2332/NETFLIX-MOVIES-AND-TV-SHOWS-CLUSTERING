{
  "nbformat": 4,
  "nbformat_minor": 0,
  "metadata": {
    "colab": {
      "provenance": [],
      "authorship_tag": "ABX9TyMF+M/Iqc+52ksk0KPvguDf",
      "include_colab_link": true
    },
    "kernelspec": {
      "name": "python3",
      "display_name": "Python 3"
    },
    "language_info": {
      "name": "python"
    }
  },
  "cells": [
    {
      "cell_type": "markdown",
      "metadata": {
        "id": "view-in-github",
        "colab_type": "text"
      },
      "source": [
        "<a href=\"https://colab.research.google.com/github/Amol2332/NETFLIX-MOVIES-AND-TV-SHOWS-CLUSTERING/blob/main/netflix_clustering.ipynb\" target=\"_parent\"><img src=\"https://colab.research.google.com/assets/colab-badge.svg\" alt=\"Open In Colab\"/></a>"
      ]
    },
    {
      "cell_type": "markdown",
      "source": [
        "# Problem Statement\n"
      ],
      "metadata": {
        "id": "nvKSzmpxbI_I"
      }
    },
    {
      "cell_type": "markdown",
      "source": [
        "This dataset consists of tv shows and movies available on Netflix as of 2019. The dataset is collected from Flixable which is a third-party Netflix search engine.\n",
        "\n",
        "In 2018, they released an interesting report which shows that the number of TV shows on Netflix has nearly tripled since 2010. The streaming service’s number of movies has decreased by more than 2,000 titles since 2010, while its number of TV shows has nearly tripled. It will be interesting to explore what all other insights can be obtained from the same dataset.\n",
        "\n",
        "Integrating this dataset with other external datasets such as IMDB ratings, rotten tomatoes can also provide many interesting findings."
      ],
      "metadata": {
        "id": "jKiEcbLZbOR3"
      }
    },
    {
      "cell_type": "markdown",
      "source": [
        "# In this project, you are required to do"
      ],
      "metadata": {
        "id": "bk7ZjePubRJV"
      }
    },
    {
      "cell_type": "markdown",
      "source": [
        "* Exploratory Data Analysis\n",
        "\n",
        "* Understanding what type content is available in different countries\n",
        "\n",
        "* Is Netflix has increasingly focusing on TV rather than movies in recent years.\n",
        "\n",
        "* Clustering similar content by matching text-based features"
      ],
      "metadata": {
        "id": "taWFh_dNbUPr"
      }
    },
    {
      "cell_type": "markdown",
      "source": [
        "# Attribute Information"
      ],
      "metadata": {
        "id": "zCCpnzNEbaHP"
      }
    },
    {
      "cell_type": "markdown",
      "source": [
        "1. Show_id : Unique ID for every Movie / Tv Show\n",
        "\n",
        "2. Type : Identifier - A Movie or TV Show\n",
        "\n",
        "3. Title : Title of the Movie / Tv Show\n",
        "\n",
        "4. Director : Director of the Movie\n",
        "\n",
        "5. Cast : Actors involved in the movie / show\n",
        "\n",
        "6. Country : Country where the movie / show was produced\n",
        "\n",
        "7. Date_added : Date it was added on Netflix\n",
        "\n",
        "8. Release_year : Actual Releaseyear of the movie / show\n",
        "\n",
        "9. Rating : TV Rating of the movie / show\n",
        "\n",
        "10. Duration : Total Duration - in minutes or number of seasons\n",
        "\n",
        "11. Listed_in : Genere\n",
        "\n",
        "12. Description: The Summary description"
      ],
      "metadata": {
        "id": "OxO2D_gJbd9s"
      }
    },
    {
      "cell_type": "code",
      "execution_count": 1,
      "metadata": {
        "colab": {
          "base_uri": "https://localhost:8080/"
        },
        "id": "SVnNVhxqbCM1",
        "outputId": "f2c090f9-559c-4575-ad71-b7ea164ebcc9"
      },
      "outputs": [
        {
          "output_type": "stream",
          "name": "stderr",
          "text": [
            "/usr/local/lib/python3.8/dist-packages/torch/cuda/__init__.py:497: UserWarning: Can't initialize NVML\n",
            "  warnings.warn(\"Can't initialize NVML\")\n",
            "[nltk_data] Downloading package punkt to /root/nltk_data...\n",
            "[nltk_data]   Unzipping tokenizers/punkt.zip.\n",
            "[nltk_data] Downloading package stopwords to /root/nltk_data...\n",
            "[nltk_data]   Unzipping corpora/stopwords.zip.\n"
          ]
        }
      ],
      "source": [
        "#Importing the libraries\n",
        "import pandas as pd\n",
        "import numpy as np\n",
        "import spacy\n",
        "import sklearn\n",
        "import string\n",
        "import matplotlib.pyplot as plt\n",
        "import seaborn as sns\n",
        "from datetime import datetime\n",
        "import warnings\n",
        "warnings.filterwarnings('ignore')\n",
        "\n",
        "import plotly.graph_objects as go\n",
        "import plotly.express as px\n",
        "from plotly.subplots import make_subplots\n",
        "from plotly.offline import init_notebook_mode, iplot\n",
        "import plotly.offline as po\n",
        "from nltk.corpus import stopwords  #stopwords\n",
        "from nltk.tokenize import word_tokenize # tokenizing\n",
        "from nltk.stem import WordNetLemmatizer  # lemmatizer from WordNet\n",
        "import nltk \n",
        "nltk.download('punkt')\n",
        "from collections import Counter\n",
        "\n",
        "# vectorizers for creating the document-term-matrix (DTM)\n",
        "from sklearn.feature_extraction.text import TfidfVectorizer,CountVectorizer\n",
        "from sklearn.decomposition import TruncatedSVD\n",
        "\n",
        "#stop-words\n",
        "nltk.download('stopwords')\n",
        "from nltk.corpus import stopwords\n",
        "STOPWORDS = set(stopwords.words('english'))\n",
        "from wordcloud import WordCloud\n",
        "from sklearn.cluster import KMeans\n",
        "from sklearn.metrics.pairwise import linear_kernel\n",
        "\n",
        "# Importing libraries for clustering\n",
        "import matplotlib.cm as cm\n",
        "from sklearn import metrics\n",
        "from sklearn.preprocessing import LabelEncoder\n",
        "from sklearn.preprocessing import StandardScaler\n",
        "\n",
        "#from scipy.cluster.hierarchy import linkage\n",
        "from sklearn.cluster import AgglomerativeClustering\n",
        "from sklearn.datasets import make_blobs\n",
        "from sklearn.metrics import silhouette_samples, silhouette_score\n",
        "from sklearn.preprocessing import MultiLabelBinarizer\n",
        "import scipy.cluster.hierarchy as sch\n",
        "from sklearn.cluster import DBSCAN\n",
        "from sklearn import metrics"
      ]
    },
    {
      "cell_type": "code",
      "source": [
        "from google.colab import drive\n",
        "drive.mount('/content/drive')"
      ],
      "metadata": {
        "colab": {
          "base_uri": "https://localhost:8080/"
        },
        "id": "uc2alVH3cBZs",
        "outputId": "53c57f6d-b3b0-43cf-d62c-1c40ce562360"
      },
      "execution_count": 2,
      "outputs": [
        {
          "output_type": "stream",
          "name": "stdout",
          "text": [
            "Mounted at /content/drive\n"
          ]
        }
      ]
    },
    {
      "cell_type": "code",
      "source": [
        "df = pd.read_csv('/content/drive/MyDrive/projects/unsupervised/NETFLIX MOVIES AND TV SHOWS CLUSTERING.csv')\n",
        "df.head()"
      ],
      "metadata": {
        "colab": {
          "base_uri": "https://localhost:8080/",
          "height": 406
        },
        "id": "-87yqinxcH_D",
        "outputId": "ef8509ba-2b06-4970-a094-4126f0ccac3d"
      },
      "execution_count": 3,
      "outputs": [
        {
          "output_type": "execute_result",
          "data": {
            "text/plain": [
              "  show_id     type  title           director  \\\n",
              "0      s1  TV Show     3%                NaN   \n",
              "1      s2    Movie   7:19  Jorge Michel Grau   \n",
              "2      s3    Movie  23:59       Gilbert Chan   \n",
              "3      s4    Movie      9        Shane Acker   \n",
              "4      s5    Movie     21     Robert Luketic   \n",
              "\n",
              "                                                cast        country  \\\n",
              "0  João Miguel, Bianca Comparato, Michel Gomes, R...         Brazil   \n",
              "1  Demián Bichir, Héctor Bonilla, Oscar Serrano, ...         Mexico   \n",
              "2  Tedd Chan, Stella Chung, Henley Hii, Lawrence ...      Singapore   \n",
              "3  Elijah Wood, John C. Reilly, Jennifer Connelly...  United States   \n",
              "4  Jim Sturgess, Kevin Spacey, Kate Bosworth, Aar...  United States   \n",
              "\n",
              "          date_added  release_year rating   duration  \\\n",
              "0    August 14, 2020          2020  TV-MA  4 Seasons   \n",
              "1  December 23, 2016          2016  TV-MA     93 min   \n",
              "2  December 20, 2018          2011      R     78 min   \n",
              "3  November 16, 2017          2009  PG-13     80 min   \n",
              "4    January 1, 2020          2008  PG-13    123 min   \n",
              "\n",
              "                                           listed_in  \\\n",
              "0  International TV Shows, TV Dramas, TV Sci-Fi &...   \n",
              "1                       Dramas, International Movies   \n",
              "2                Horror Movies, International Movies   \n",
              "3  Action & Adventure, Independent Movies, Sci-Fi...   \n",
              "4                                             Dramas   \n",
              "\n",
              "                                         description  \n",
              "0  In a future where the elite inhabit an island ...  \n",
              "1  After a devastating earthquake hits Mexico Cit...  \n",
              "2  When an army recruit is found dead, his fellow...  \n",
              "3  In a postapocalyptic world, rag-doll robots hi...  \n",
              "4  A brilliant group of students become card-coun...  "
            ],
            "text/html": [
              "\n",
              "  <div id=\"df-98b5d245-7579-4f8d-970d-a139eac3408f\">\n",
              "    <div class=\"colab-df-container\">\n",
              "      <div>\n",
              "<style scoped>\n",
              "    .dataframe tbody tr th:only-of-type {\n",
              "        vertical-align: middle;\n",
              "    }\n",
              "\n",
              "    .dataframe tbody tr th {\n",
              "        vertical-align: top;\n",
              "    }\n",
              "\n",
              "    .dataframe thead th {\n",
              "        text-align: right;\n",
              "    }\n",
              "</style>\n",
              "<table border=\"1\" class=\"dataframe\">\n",
              "  <thead>\n",
              "    <tr style=\"text-align: right;\">\n",
              "      <th></th>\n",
              "      <th>show_id</th>\n",
              "      <th>type</th>\n",
              "      <th>title</th>\n",
              "      <th>director</th>\n",
              "      <th>cast</th>\n",
              "      <th>country</th>\n",
              "      <th>date_added</th>\n",
              "      <th>release_year</th>\n",
              "      <th>rating</th>\n",
              "      <th>duration</th>\n",
              "      <th>listed_in</th>\n",
              "      <th>description</th>\n",
              "    </tr>\n",
              "  </thead>\n",
              "  <tbody>\n",
              "    <tr>\n",
              "      <th>0</th>\n",
              "      <td>s1</td>\n",
              "      <td>TV Show</td>\n",
              "      <td>3%</td>\n",
              "      <td>NaN</td>\n",
              "      <td>João Miguel, Bianca Comparato, Michel Gomes, R...</td>\n",
              "      <td>Brazil</td>\n",
              "      <td>August 14, 2020</td>\n",
              "      <td>2020</td>\n",
              "      <td>TV-MA</td>\n",
              "      <td>4 Seasons</td>\n",
              "      <td>International TV Shows, TV Dramas, TV Sci-Fi &amp;...</td>\n",
              "      <td>In a future where the elite inhabit an island ...</td>\n",
              "    </tr>\n",
              "    <tr>\n",
              "      <th>1</th>\n",
              "      <td>s2</td>\n",
              "      <td>Movie</td>\n",
              "      <td>7:19</td>\n",
              "      <td>Jorge Michel Grau</td>\n",
              "      <td>Demián Bichir, Héctor Bonilla, Oscar Serrano, ...</td>\n",
              "      <td>Mexico</td>\n",
              "      <td>December 23, 2016</td>\n",
              "      <td>2016</td>\n",
              "      <td>TV-MA</td>\n",
              "      <td>93 min</td>\n",
              "      <td>Dramas, International Movies</td>\n",
              "      <td>After a devastating earthquake hits Mexico Cit...</td>\n",
              "    </tr>\n",
              "    <tr>\n",
              "      <th>2</th>\n",
              "      <td>s3</td>\n",
              "      <td>Movie</td>\n",
              "      <td>23:59</td>\n",
              "      <td>Gilbert Chan</td>\n",
              "      <td>Tedd Chan, Stella Chung, Henley Hii, Lawrence ...</td>\n",
              "      <td>Singapore</td>\n",
              "      <td>December 20, 2018</td>\n",
              "      <td>2011</td>\n",
              "      <td>R</td>\n",
              "      <td>78 min</td>\n",
              "      <td>Horror Movies, International Movies</td>\n",
              "      <td>When an army recruit is found dead, his fellow...</td>\n",
              "    </tr>\n",
              "    <tr>\n",
              "      <th>3</th>\n",
              "      <td>s4</td>\n",
              "      <td>Movie</td>\n",
              "      <td>9</td>\n",
              "      <td>Shane Acker</td>\n",
              "      <td>Elijah Wood, John C. Reilly, Jennifer Connelly...</td>\n",
              "      <td>United States</td>\n",
              "      <td>November 16, 2017</td>\n",
              "      <td>2009</td>\n",
              "      <td>PG-13</td>\n",
              "      <td>80 min</td>\n",
              "      <td>Action &amp; Adventure, Independent Movies, Sci-Fi...</td>\n",
              "      <td>In a postapocalyptic world, rag-doll robots hi...</td>\n",
              "    </tr>\n",
              "    <tr>\n",
              "      <th>4</th>\n",
              "      <td>s5</td>\n",
              "      <td>Movie</td>\n",
              "      <td>21</td>\n",
              "      <td>Robert Luketic</td>\n",
              "      <td>Jim Sturgess, Kevin Spacey, Kate Bosworth, Aar...</td>\n",
              "      <td>United States</td>\n",
              "      <td>January 1, 2020</td>\n",
              "      <td>2008</td>\n",
              "      <td>PG-13</td>\n",
              "      <td>123 min</td>\n",
              "      <td>Dramas</td>\n",
              "      <td>A brilliant group of students become card-coun...</td>\n",
              "    </tr>\n",
              "  </tbody>\n",
              "</table>\n",
              "</div>\n",
              "      <button class=\"colab-df-convert\" onclick=\"convertToInteractive('df-98b5d245-7579-4f8d-970d-a139eac3408f')\"\n",
              "              title=\"Convert this dataframe to an interactive table.\"\n",
              "              style=\"display:none;\">\n",
              "        \n",
              "  <svg xmlns=\"http://www.w3.org/2000/svg\" height=\"24px\"viewBox=\"0 0 24 24\"\n",
              "       width=\"24px\">\n",
              "    <path d=\"M0 0h24v24H0V0z\" fill=\"none\"/>\n",
              "    <path d=\"M18.56 5.44l.94 2.06.94-2.06 2.06-.94-2.06-.94-.94-2.06-.94 2.06-2.06.94zm-11 1L8.5 8.5l.94-2.06 2.06-.94-2.06-.94L8.5 2.5l-.94 2.06-2.06.94zm10 10l.94 2.06.94-2.06 2.06-.94-2.06-.94-.94-2.06-.94 2.06-2.06.94z\"/><path d=\"M17.41 7.96l-1.37-1.37c-.4-.4-.92-.59-1.43-.59-.52 0-1.04.2-1.43.59L10.3 9.45l-7.72 7.72c-.78.78-.78 2.05 0 2.83L4 21.41c.39.39.9.59 1.41.59.51 0 1.02-.2 1.41-.59l7.78-7.78 2.81-2.81c.8-.78.8-2.07 0-2.86zM5.41 20L4 18.59l7.72-7.72 1.47 1.35L5.41 20z\"/>\n",
              "  </svg>\n",
              "      </button>\n",
              "      \n",
              "  <style>\n",
              "    .colab-df-container {\n",
              "      display:flex;\n",
              "      flex-wrap:wrap;\n",
              "      gap: 12px;\n",
              "    }\n",
              "\n",
              "    .colab-df-convert {\n",
              "      background-color: #E8F0FE;\n",
              "      border: none;\n",
              "      border-radius: 50%;\n",
              "      cursor: pointer;\n",
              "      display: none;\n",
              "      fill: #1967D2;\n",
              "      height: 32px;\n",
              "      padding: 0 0 0 0;\n",
              "      width: 32px;\n",
              "    }\n",
              "\n",
              "    .colab-df-convert:hover {\n",
              "      background-color: #E2EBFA;\n",
              "      box-shadow: 0px 1px 2px rgba(60, 64, 67, 0.3), 0px 1px 3px 1px rgba(60, 64, 67, 0.15);\n",
              "      fill: #174EA6;\n",
              "    }\n",
              "\n",
              "    [theme=dark] .colab-df-convert {\n",
              "      background-color: #3B4455;\n",
              "      fill: #D2E3FC;\n",
              "    }\n",
              "\n",
              "    [theme=dark] .colab-df-convert:hover {\n",
              "      background-color: #434B5C;\n",
              "      box-shadow: 0px 1px 3px 1px rgba(0, 0, 0, 0.15);\n",
              "      filter: drop-shadow(0px 1px 2px rgba(0, 0, 0, 0.3));\n",
              "      fill: #FFFFFF;\n",
              "    }\n",
              "  </style>\n",
              "\n",
              "      <script>\n",
              "        const buttonEl =\n",
              "          document.querySelector('#df-98b5d245-7579-4f8d-970d-a139eac3408f button.colab-df-convert');\n",
              "        buttonEl.style.display =\n",
              "          google.colab.kernel.accessAllowed ? 'block' : 'none';\n",
              "\n",
              "        async function convertToInteractive(key) {\n",
              "          const element = document.querySelector('#df-98b5d245-7579-4f8d-970d-a139eac3408f');\n",
              "          const dataTable =\n",
              "            await google.colab.kernel.invokeFunction('convertToInteractive',\n",
              "                                                     [key], {});\n",
              "          if (!dataTable) return;\n",
              "\n",
              "          const docLinkHtml = 'Like what you see? Visit the ' +\n",
              "            '<a target=\"_blank\" href=https://colab.research.google.com/notebooks/data_table.ipynb>data table notebook</a>'\n",
              "            + ' to learn more about interactive tables.';\n",
              "          element.innerHTML = '';\n",
              "          dataTable['output_type'] = 'display_data';\n",
              "          await google.colab.output.renderOutput(dataTable, element);\n",
              "          const docLink = document.createElement('div');\n",
              "          docLink.innerHTML = docLinkHtml;\n",
              "          element.appendChild(docLink);\n",
              "        }\n",
              "      </script>\n",
              "    </div>\n",
              "  </div>\n",
              "  "
            ]
          },
          "metadata": {},
          "execution_count": 3
        }
      ]
    },
    {
      "cell_type": "markdown",
      "source": [
        "# Data study"
      ],
      "metadata": {
        "id": "i3yyI6S5cS0U"
      }
    },
    {
      "cell_type": "code",
      "source": [
        "df.shape"
      ],
      "metadata": {
        "colab": {
          "base_uri": "https://localhost:8080/"
        },
        "id": "yxzwf5igcQ0q",
        "outputId": "f245da0c-3f20-4e1f-8c19-1323b7f9e8f9"
      },
      "execution_count": 4,
      "outputs": [
        {
          "output_type": "execute_result",
          "data": {
            "text/plain": [
              "(7787, 12)"
            ]
          },
          "metadata": {},
          "execution_count": 4
        }
      ]
    },
    {
      "cell_type": "code",
      "source": [
        "df.columns"
      ],
      "metadata": {
        "colab": {
          "base_uri": "https://localhost:8080/"
        },
        "id": "rRdNgd5BcWQ6",
        "outputId": "fd17ebe2-5576-4cac-b49d-cb8293c6d584"
      },
      "execution_count": 5,
      "outputs": [
        {
          "output_type": "execute_result",
          "data": {
            "text/plain": [
              "Index(['show_id', 'type', 'title', 'director', 'cast', 'country', 'date_added',\n",
              "       'release_year', 'rating', 'duration', 'listed_in', 'description'],\n",
              "      dtype='object')"
            ]
          },
          "metadata": {},
          "execution_count": 5
        }
      ]
    },
    {
      "cell_type": "code",
      "source": [
        "df.info()"
      ],
      "metadata": {
        "colab": {
          "base_uri": "https://localhost:8080/"
        },
        "id": "B9Yqe1mpcYYt",
        "outputId": "522555c0-bf68-424c-eb19-0e6502ec2ce3"
      },
      "execution_count": 6,
      "outputs": [
        {
          "output_type": "stream",
          "name": "stdout",
          "text": [
            "<class 'pandas.core.frame.DataFrame'>\n",
            "RangeIndex: 7787 entries, 0 to 7786\n",
            "Data columns (total 12 columns):\n",
            " #   Column        Non-Null Count  Dtype \n",
            "---  ------        --------------  ----- \n",
            " 0   show_id       7787 non-null   object\n",
            " 1   type          7787 non-null   object\n",
            " 2   title         7787 non-null   object\n",
            " 3   director      5398 non-null   object\n",
            " 4   cast          7069 non-null   object\n",
            " 5   country       7280 non-null   object\n",
            " 6   date_added    7777 non-null   object\n",
            " 7   release_year  7787 non-null   int64 \n",
            " 8   rating        7780 non-null   object\n",
            " 9   duration      7787 non-null   object\n",
            " 10  listed_in     7787 non-null   object\n",
            " 11  description   7787 non-null   object\n",
            "dtypes: int64(1), object(11)\n",
            "memory usage: 730.2+ KB\n"
          ]
        }
      ]
    },
    {
      "cell_type": "code",
      "source": [
        "df.describe(include ='O') # o is to limit the o/p to object columns "
      ],
      "metadata": {
        "colab": {
          "base_uri": "https://localhost:8080/",
          "height": 236
        },
        "id": "lODkQSZfcaFC",
        "outputId": "59bf2f0f-734d-4f21-c075-743ad836ab5f"
      },
      "execution_count": 7,
      "outputs": [
        {
          "output_type": "execute_result",
          "data": {
            "text/plain": [
              "       show_id   type title                director                cast  \\\n",
              "count     7787   7787  7787                    5398                7069   \n",
              "unique    7787      2  7787                    4049                6831   \n",
              "top         s1  Movie    3%  Raúl Campos, Jan Suter  David Attenborough   \n",
              "freq         1   5377     1                      18                  18   \n",
              "\n",
              "              country       date_added rating  duration      listed_in  \\\n",
              "count            7280             7777   7780      7787           7787   \n",
              "unique            681             1565     14       216            492   \n",
              "top     United States  January 1, 2020  TV-MA  1 Season  Documentaries   \n",
              "freq             2555              118   2863      1608            334   \n",
              "\n",
              "                                              description  \n",
              "count                                                7787  \n",
              "unique                                               7769  \n",
              "top     Multiple women report their husbands as missin...  \n",
              "freq                                                    3  "
            ],
            "text/html": [
              "\n",
              "  <div id=\"df-5eb25b99-06f5-4443-ae9d-5a8b57e24677\">\n",
              "    <div class=\"colab-df-container\">\n",
              "      <div>\n",
              "<style scoped>\n",
              "    .dataframe tbody tr th:only-of-type {\n",
              "        vertical-align: middle;\n",
              "    }\n",
              "\n",
              "    .dataframe tbody tr th {\n",
              "        vertical-align: top;\n",
              "    }\n",
              "\n",
              "    .dataframe thead th {\n",
              "        text-align: right;\n",
              "    }\n",
              "</style>\n",
              "<table border=\"1\" class=\"dataframe\">\n",
              "  <thead>\n",
              "    <tr style=\"text-align: right;\">\n",
              "      <th></th>\n",
              "      <th>show_id</th>\n",
              "      <th>type</th>\n",
              "      <th>title</th>\n",
              "      <th>director</th>\n",
              "      <th>cast</th>\n",
              "      <th>country</th>\n",
              "      <th>date_added</th>\n",
              "      <th>rating</th>\n",
              "      <th>duration</th>\n",
              "      <th>listed_in</th>\n",
              "      <th>description</th>\n",
              "    </tr>\n",
              "  </thead>\n",
              "  <tbody>\n",
              "    <tr>\n",
              "      <th>count</th>\n",
              "      <td>7787</td>\n",
              "      <td>7787</td>\n",
              "      <td>7787</td>\n",
              "      <td>5398</td>\n",
              "      <td>7069</td>\n",
              "      <td>7280</td>\n",
              "      <td>7777</td>\n",
              "      <td>7780</td>\n",
              "      <td>7787</td>\n",
              "      <td>7787</td>\n",
              "      <td>7787</td>\n",
              "    </tr>\n",
              "    <tr>\n",
              "      <th>unique</th>\n",
              "      <td>7787</td>\n",
              "      <td>2</td>\n",
              "      <td>7787</td>\n",
              "      <td>4049</td>\n",
              "      <td>6831</td>\n",
              "      <td>681</td>\n",
              "      <td>1565</td>\n",
              "      <td>14</td>\n",
              "      <td>216</td>\n",
              "      <td>492</td>\n",
              "      <td>7769</td>\n",
              "    </tr>\n",
              "    <tr>\n",
              "      <th>top</th>\n",
              "      <td>s1</td>\n",
              "      <td>Movie</td>\n",
              "      <td>3%</td>\n",
              "      <td>Raúl Campos, Jan Suter</td>\n",
              "      <td>David Attenborough</td>\n",
              "      <td>United States</td>\n",
              "      <td>January 1, 2020</td>\n",
              "      <td>TV-MA</td>\n",
              "      <td>1 Season</td>\n",
              "      <td>Documentaries</td>\n",
              "      <td>Multiple women report their husbands as missin...</td>\n",
              "    </tr>\n",
              "    <tr>\n",
              "      <th>freq</th>\n",
              "      <td>1</td>\n",
              "      <td>5377</td>\n",
              "      <td>1</td>\n",
              "      <td>18</td>\n",
              "      <td>18</td>\n",
              "      <td>2555</td>\n",
              "      <td>118</td>\n",
              "      <td>2863</td>\n",
              "      <td>1608</td>\n",
              "      <td>334</td>\n",
              "      <td>3</td>\n",
              "    </tr>\n",
              "  </tbody>\n",
              "</table>\n",
              "</div>\n",
              "      <button class=\"colab-df-convert\" onclick=\"convertToInteractive('df-5eb25b99-06f5-4443-ae9d-5a8b57e24677')\"\n",
              "              title=\"Convert this dataframe to an interactive table.\"\n",
              "              style=\"display:none;\">\n",
              "        \n",
              "  <svg xmlns=\"http://www.w3.org/2000/svg\" height=\"24px\"viewBox=\"0 0 24 24\"\n",
              "       width=\"24px\">\n",
              "    <path d=\"M0 0h24v24H0V0z\" fill=\"none\"/>\n",
              "    <path d=\"M18.56 5.44l.94 2.06.94-2.06 2.06-.94-2.06-.94-.94-2.06-.94 2.06-2.06.94zm-11 1L8.5 8.5l.94-2.06 2.06-.94-2.06-.94L8.5 2.5l-.94 2.06-2.06.94zm10 10l.94 2.06.94-2.06 2.06-.94-2.06-.94-.94-2.06-.94 2.06-2.06.94z\"/><path d=\"M17.41 7.96l-1.37-1.37c-.4-.4-.92-.59-1.43-.59-.52 0-1.04.2-1.43.59L10.3 9.45l-7.72 7.72c-.78.78-.78 2.05 0 2.83L4 21.41c.39.39.9.59 1.41.59.51 0 1.02-.2 1.41-.59l7.78-7.78 2.81-2.81c.8-.78.8-2.07 0-2.86zM5.41 20L4 18.59l7.72-7.72 1.47 1.35L5.41 20z\"/>\n",
              "  </svg>\n",
              "      </button>\n",
              "      \n",
              "  <style>\n",
              "    .colab-df-container {\n",
              "      display:flex;\n",
              "      flex-wrap:wrap;\n",
              "      gap: 12px;\n",
              "    }\n",
              "\n",
              "    .colab-df-convert {\n",
              "      background-color: #E8F0FE;\n",
              "      border: none;\n",
              "      border-radius: 50%;\n",
              "      cursor: pointer;\n",
              "      display: none;\n",
              "      fill: #1967D2;\n",
              "      height: 32px;\n",
              "      padding: 0 0 0 0;\n",
              "      width: 32px;\n",
              "    }\n",
              "\n",
              "    .colab-df-convert:hover {\n",
              "      background-color: #E2EBFA;\n",
              "      box-shadow: 0px 1px 2px rgba(60, 64, 67, 0.3), 0px 1px 3px 1px rgba(60, 64, 67, 0.15);\n",
              "      fill: #174EA6;\n",
              "    }\n",
              "\n",
              "    [theme=dark] .colab-df-convert {\n",
              "      background-color: #3B4455;\n",
              "      fill: #D2E3FC;\n",
              "    }\n",
              "\n",
              "    [theme=dark] .colab-df-convert:hover {\n",
              "      background-color: #434B5C;\n",
              "      box-shadow: 0px 1px 3px 1px rgba(0, 0, 0, 0.15);\n",
              "      filter: drop-shadow(0px 1px 2px rgba(0, 0, 0, 0.3));\n",
              "      fill: #FFFFFF;\n",
              "    }\n",
              "  </style>\n",
              "\n",
              "      <script>\n",
              "        const buttonEl =\n",
              "          document.querySelector('#df-5eb25b99-06f5-4443-ae9d-5a8b57e24677 button.colab-df-convert');\n",
              "        buttonEl.style.display =\n",
              "          google.colab.kernel.accessAllowed ? 'block' : 'none';\n",
              "\n",
              "        async function convertToInteractive(key) {\n",
              "          const element = document.querySelector('#df-5eb25b99-06f5-4443-ae9d-5a8b57e24677');\n",
              "          const dataTable =\n",
              "            await google.colab.kernel.invokeFunction('convertToInteractive',\n",
              "                                                     [key], {});\n",
              "          if (!dataTable) return;\n",
              "\n",
              "          const docLinkHtml = 'Like what you see? Visit the ' +\n",
              "            '<a target=\"_blank\" href=https://colab.research.google.com/notebooks/data_table.ipynb>data table notebook</a>'\n",
              "            + ' to learn more about interactive tables.';\n",
              "          element.innerHTML = '';\n",
              "          dataTable['output_type'] = 'display_data';\n",
              "          await google.colab.output.renderOutput(dataTable, element);\n",
              "          const docLink = document.createElement('div');\n",
              "          docLink.innerHTML = docLinkHtml;\n",
              "          element.appendChild(docLink);\n",
              "        }\n",
              "      </script>\n",
              "    </div>\n",
              "  </div>\n",
              "  "
            ]
          },
          "metadata": {},
          "execution_count": 7
        }
      ]
    },
    {
      "cell_type": "markdown",
      "source": [
        "# Data Cleaning"
      ],
      "metadata": {
        "id": "ejNPK23UdWHs"
      }
    },
    {
      "cell_type": "markdown",
      "source": [
        "Checking Missing values"
      ],
      "metadata": {
        "id": "LiHhMH7mdZHh"
      }
    },
    {
      "cell_type": "code",
      "source": [
        "NaN_Checker = pd.DataFrame({\"No Of Total Values\": df.shape[0] , \"No of NaN values\": df.isnull().sum(),\n",
        "                    \"%age of NaN values\" : round((df.isnull().sum()/ df.shape[0])*100 , 2) })\n",
        "NaN_Checker.sort_values(\"No of NaN values\" , ascending = False)"
      ],
      "metadata": {
        "colab": {
          "base_uri": "https://localhost:8080/",
          "height": 426
        },
        "id": "bOE5emjAccDa",
        "outputId": "3a328167-2ecd-4df9-9437-6603a8331351"
      },
      "execution_count": 8,
      "outputs": [
        {
          "output_type": "execute_result",
          "data": {
            "text/plain": [
              "              No Of Total Values  No of NaN values  %age of NaN values\n",
              "director                    7787              2389               30.68\n",
              "cast                        7787               718                9.22\n",
              "country                     7787               507                6.51\n",
              "date_added                  7787                10                0.13\n",
              "rating                      7787                 7                0.09\n",
              "show_id                     7787                 0                0.00\n",
              "type                        7787                 0                0.00\n",
              "title                       7787                 0                0.00\n",
              "release_year                7787                 0                0.00\n",
              "duration                    7787                 0                0.00\n",
              "listed_in                   7787                 0                0.00\n",
              "description                 7787                 0                0.00"
            ],
            "text/html": [
              "\n",
              "  <div id=\"df-51b2907a-55b5-49af-8a49-3e4e8fb50f1f\">\n",
              "    <div class=\"colab-df-container\">\n",
              "      <div>\n",
              "<style scoped>\n",
              "    .dataframe tbody tr th:only-of-type {\n",
              "        vertical-align: middle;\n",
              "    }\n",
              "\n",
              "    .dataframe tbody tr th {\n",
              "        vertical-align: top;\n",
              "    }\n",
              "\n",
              "    .dataframe thead th {\n",
              "        text-align: right;\n",
              "    }\n",
              "</style>\n",
              "<table border=\"1\" class=\"dataframe\">\n",
              "  <thead>\n",
              "    <tr style=\"text-align: right;\">\n",
              "      <th></th>\n",
              "      <th>No Of Total Values</th>\n",
              "      <th>No of NaN values</th>\n",
              "      <th>%age of NaN values</th>\n",
              "    </tr>\n",
              "  </thead>\n",
              "  <tbody>\n",
              "    <tr>\n",
              "      <th>director</th>\n",
              "      <td>7787</td>\n",
              "      <td>2389</td>\n",
              "      <td>30.68</td>\n",
              "    </tr>\n",
              "    <tr>\n",
              "      <th>cast</th>\n",
              "      <td>7787</td>\n",
              "      <td>718</td>\n",
              "      <td>9.22</td>\n",
              "    </tr>\n",
              "    <tr>\n",
              "      <th>country</th>\n",
              "      <td>7787</td>\n",
              "      <td>507</td>\n",
              "      <td>6.51</td>\n",
              "    </tr>\n",
              "    <tr>\n",
              "      <th>date_added</th>\n",
              "      <td>7787</td>\n",
              "      <td>10</td>\n",
              "      <td>0.13</td>\n",
              "    </tr>\n",
              "    <tr>\n",
              "      <th>rating</th>\n",
              "      <td>7787</td>\n",
              "      <td>7</td>\n",
              "      <td>0.09</td>\n",
              "    </tr>\n",
              "    <tr>\n",
              "      <th>show_id</th>\n",
              "      <td>7787</td>\n",
              "      <td>0</td>\n",
              "      <td>0.00</td>\n",
              "    </tr>\n",
              "    <tr>\n",
              "      <th>type</th>\n",
              "      <td>7787</td>\n",
              "      <td>0</td>\n",
              "      <td>0.00</td>\n",
              "    </tr>\n",
              "    <tr>\n",
              "      <th>title</th>\n",
              "      <td>7787</td>\n",
              "      <td>0</td>\n",
              "      <td>0.00</td>\n",
              "    </tr>\n",
              "    <tr>\n",
              "      <th>release_year</th>\n",
              "      <td>7787</td>\n",
              "      <td>0</td>\n",
              "      <td>0.00</td>\n",
              "    </tr>\n",
              "    <tr>\n",
              "      <th>duration</th>\n",
              "      <td>7787</td>\n",
              "      <td>0</td>\n",
              "      <td>0.00</td>\n",
              "    </tr>\n",
              "    <tr>\n",
              "      <th>listed_in</th>\n",
              "      <td>7787</td>\n",
              "      <td>0</td>\n",
              "      <td>0.00</td>\n",
              "    </tr>\n",
              "    <tr>\n",
              "      <th>description</th>\n",
              "      <td>7787</td>\n",
              "      <td>0</td>\n",
              "      <td>0.00</td>\n",
              "    </tr>\n",
              "  </tbody>\n",
              "</table>\n",
              "</div>\n",
              "      <button class=\"colab-df-convert\" onclick=\"convertToInteractive('df-51b2907a-55b5-49af-8a49-3e4e8fb50f1f')\"\n",
              "              title=\"Convert this dataframe to an interactive table.\"\n",
              "              style=\"display:none;\">\n",
              "        \n",
              "  <svg xmlns=\"http://www.w3.org/2000/svg\" height=\"24px\"viewBox=\"0 0 24 24\"\n",
              "       width=\"24px\">\n",
              "    <path d=\"M0 0h24v24H0V0z\" fill=\"none\"/>\n",
              "    <path d=\"M18.56 5.44l.94 2.06.94-2.06 2.06-.94-2.06-.94-.94-2.06-.94 2.06-2.06.94zm-11 1L8.5 8.5l.94-2.06 2.06-.94-2.06-.94L8.5 2.5l-.94 2.06-2.06.94zm10 10l.94 2.06.94-2.06 2.06-.94-2.06-.94-.94-2.06-.94 2.06-2.06.94z\"/><path d=\"M17.41 7.96l-1.37-1.37c-.4-.4-.92-.59-1.43-.59-.52 0-1.04.2-1.43.59L10.3 9.45l-7.72 7.72c-.78.78-.78 2.05 0 2.83L4 21.41c.39.39.9.59 1.41.59.51 0 1.02-.2 1.41-.59l7.78-7.78 2.81-2.81c.8-.78.8-2.07 0-2.86zM5.41 20L4 18.59l7.72-7.72 1.47 1.35L5.41 20z\"/>\n",
              "  </svg>\n",
              "      </button>\n",
              "      \n",
              "  <style>\n",
              "    .colab-df-container {\n",
              "      display:flex;\n",
              "      flex-wrap:wrap;\n",
              "      gap: 12px;\n",
              "    }\n",
              "\n",
              "    .colab-df-convert {\n",
              "      background-color: #E8F0FE;\n",
              "      border: none;\n",
              "      border-radius: 50%;\n",
              "      cursor: pointer;\n",
              "      display: none;\n",
              "      fill: #1967D2;\n",
              "      height: 32px;\n",
              "      padding: 0 0 0 0;\n",
              "      width: 32px;\n",
              "    }\n",
              "\n",
              "    .colab-df-convert:hover {\n",
              "      background-color: #E2EBFA;\n",
              "      box-shadow: 0px 1px 2px rgba(60, 64, 67, 0.3), 0px 1px 3px 1px rgba(60, 64, 67, 0.15);\n",
              "      fill: #174EA6;\n",
              "    }\n",
              "\n",
              "    [theme=dark] .colab-df-convert {\n",
              "      background-color: #3B4455;\n",
              "      fill: #D2E3FC;\n",
              "    }\n",
              "\n",
              "    [theme=dark] .colab-df-convert:hover {\n",
              "      background-color: #434B5C;\n",
              "      box-shadow: 0px 1px 3px 1px rgba(0, 0, 0, 0.15);\n",
              "      filter: drop-shadow(0px 1px 2px rgba(0, 0, 0, 0.3));\n",
              "      fill: #FFFFFF;\n",
              "    }\n",
              "  </style>\n",
              "\n",
              "      <script>\n",
              "        const buttonEl =\n",
              "          document.querySelector('#df-51b2907a-55b5-49af-8a49-3e4e8fb50f1f button.colab-df-convert');\n",
              "        buttonEl.style.display =\n",
              "          google.colab.kernel.accessAllowed ? 'block' : 'none';\n",
              "\n",
              "        async function convertToInteractive(key) {\n",
              "          const element = document.querySelector('#df-51b2907a-55b5-49af-8a49-3e4e8fb50f1f');\n",
              "          const dataTable =\n",
              "            await google.colab.kernel.invokeFunction('convertToInteractive',\n",
              "                                                     [key], {});\n",
              "          if (!dataTable) return;\n",
              "\n",
              "          const docLinkHtml = 'Like what you see? Visit the ' +\n",
              "            '<a target=\"_blank\" href=https://colab.research.google.com/notebooks/data_table.ipynb>data table notebook</a>'\n",
              "            + ' to learn more about interactive tables.';\n",
              "          element.innerHTML = '';\n",
              "          dataTable['output_type'] = 'display_data';\n",
              "          await google.colab.output.renderOutput(dataTable, element);\n",
              "          const docLink = document.createElement('div');\n",
              "          docLink.innerHTML = docLinkHtml;\n",
              "          element.appendChild(docLink);\n",
              "        }\n",
              "      </script>\n",
              "    </div>\n",
              "  </div>\n",
              "  "
            ]
          },
          "metadata": {},
          "execution_count": 8
        }
      ]
    },
    {
      "cell_type": "markdown",
      "source": [
        "* **director column** has highest NaN values 30.7% data is missing\n",
        "* **cast**, **country , date_added , rating** column has more than 10% NaN values"
      ],
      "metadata": {
        "id": "2lqlC_QVdeFA"
      }
    },
    {
      "cell_type": "markdown",
      "source": [
        "In order to treat missing values in director column we will fill the null values with unknown.\n",
        "\n",
        "And in cast column we will fill the values with 'No cast'. country can be filled with mode value.\n",
        "\n",
        "date added and rating are having very less missing values so they can be removed."
      ],
      "metadata": {
        "id": "gzthXIfxdshJ"
      }
    },
    {
      "cell_type": "code",
      "source": [
        "#HANDLING MISSING VALUES\n",
        "df['director'].fillna('unknown', inplace=True)\n",
        "df['cast'].fillna(value='No cast',inplace=True)\n",
        "df['country'].fillna(value=df['country'].mode()[0],inplace=True)\n",
        "df.dropna(subset=['date_added','rating'],inplace=True)"
      ],
      "metadata": {
        "id": "16T9yV54dbxi"
      },
      "execution_count": 9,
      "outputs": []
    },
    {
      "cell_type": "code",
      "source": [
        "df.isnull().sum()"
      ],
      "metadata": {
        "colab": {
          "base_uri": "https://localhost:8080/"
        },
        "id": "1t6MDOrKdvVU",
        "outputId": "8b30f25b-f256-47fb-a937-f057f0c78e4c"
      },
      "execution_count": 10,
      "outputs": [
        {
          "output_type": "execute_result",
          "data": {
            "text/plain": [
              "show_id         0\n",
              "type            0\n",
              "title           0\n",
              "director        0\n",
              "cast            0\n",
              "country         0\n",
              "date_added      0\n",
              "release_year    0\n",
              "rating          0\n",
              "duration        0\n",
              "listed_in       0\n",
              "description     0\n",
              "dtype: int64"
            ]
          },
          "metadata": {},
          "execution_count": 10
        }
      ]
    },
    {
      "cell_type": "markdown",
      "source": [
        "Hence all null values are treated"
      ],
      "metadata": {
        "id": "l5jc05U_dy9k"
      }
    },
    {
      "cell_type": "markdown",
      "source": [
        "**Creating New Columns**"
      ],
      "metadata": {
        "id": "AoXZCedUd1Ws"
      }
    },
    {
      "cell_type": "code",
      "source": [
        "# Create new features to store date, day, month and year seperately.\n",
        "df[\"date_added\"] = pd.to_datetime(df['date_added'])  # First convert date_added to date time format.\n",
        "df['day_added'] = df['date_added'].dt.day            # Compute day.\n",
        "df['year_added'] = df['date_added'].dt.year          # Compute year.\n",
        "df['month_added'] = df['date_added'].dt.month        # Compute month."
      ],
      "metadata": {
        "id": "rfFL3oyIdxEz"
      },
      "execution_count": 11,
      "outputs": []
    },
    {
      "cell_type": "code",
      "source": [
        "df.head()"
      ],
      "metadata": {
        "colab": {
          "base_uri": "https://localhost:8080/",
          "height": 615
        },
        "id": "tN8uBfJceB4a",
        "outputId": "0658e487-02c8-4b2f-8339-c90a00752e66"
      },
      "execution_count": 12,
      "outputs": [
        {
          "output_type": "execute_result",
          "data": {
            "text/plain": [
              "  show_id     type  title           director  \\\n",
              "0      s1  TV Show     3%            unknown   \n",
              "1      s2    Movie   7:19  Jorge Michel Grau   \n",
              "2      s3    Movie  23:59       Gilbert Chan   \n",
              "3      s4    Movie      9        Shane Acker   \n",
              "4      s5    Movie     21     Robert Luketic   \n",
              "\n",
              "                                                cast        country  \\\n",
              "0  João Miguel, Bianca Comparato, Michel Gomes, R...         Brazil   \n",
              "1  Demián Bichir, Héctor Bonilla, Oscar Serrano, ...         Mexico   \n",
              "2  Tedd Chan, Stella Chung, Henley Hii, Lawrence ...      Singapore   \n",
              "3  Elijah Wood, John C. Reilly, Jennifer Connelly...  United States   \n",
              "4  Jim Sturgess, Kevin Spacey, Kate Bosworth, Aar...  United States   \n",
              "\n",
              "  date_added  release_year rating   duration  \\\n",
              "0 2020-08-14          2020  TV-MA  4 Seasons   \n",
              "1 2016-12-23          2016  TV-MA     93 min   \n",
              "2 2018-12-20          2011      R     78 min   \n",
              "3 2017-11-16          2009  PG-13     80 min   \n",
              "4 2020-01-01          2008  PG-13    123 min   \n",
              "\n",
              "                                           listed_in  \\\n",
              "0  International TV Shows, TV Dramas, TV Sci-Fi &...   \n",
              "1                       Dramas, International Movies   \n",
              "2                Horror Movies, International Movies   \n",
              "3  Action & Adventure, Independent Movies, Sci-Fi...   \n",
              "4                                             Dramas   \n",
              "\n",
              "                                         description  day_added  year_added  \\\n",
              "0  In a future where the elite inhabit an island ...         14        2020   \n",
              "1  After a devastating earthquake hits Mexico Cit...         23        2016   \n",
              "2  When an army recruit is found dead, his fellow...         20        2018   \n",
              "3  In a postapocalyptic world, rag-doll robots hi...         16        2017   \n",
              "4  A brilliant group of students become card-coun...          1        2020   \n",
              "\n",
              "   month_added  \n",
              "0            8  \n",
              "1           12  \n",
              "2           12  \n",
              "3           11  \n",
              "4            1  "
            ],
            "text/html": [
              "\n",
              "  <div id=\"df-992ec331-bcf9-412a-bfdc-7efd75e882a3\">\n",
              "    <div class=\"colab-df-container\">\n",
              "      <div>\n",
              "<style scoped>\n",
              "    .dataframe tbody tr th:only-of-type {\n",
              "        vertical-align: middle;\n",
              "    }\n",
              "\n",
              "    .dataframe tbody tr th {\n",
              "        vertical-align: top;\n",
              "    }\n",
              "\n",
              "    .dataframe thead th {\n",
              "        text-align: right;\n",
              "    }\n",
              "</style>\n",
              "<table border=\"1\" class=\"dataframe\">\n",
              "  <thead>\n",
              "    <tr style=\"text-align: right;\">\n",
              "      <th></th>\n",
              "      <th>show_id</th>\n",
              "      <th>type</th>\n",
              "      <th>title</th>\n",
              "      <th>director</th>\n",
              "      <th>cast</th>\n",
              "      <th>country</th>\n",
              "      <th>date_added</th>\n",
              "      <th>release_year</th>\n",
              "      <th>rating</th>\n",
              "      <th>duration</th>\n",
              "      <th>listed_in</th>\n",
              "      <th>description</th>\n",
              "      <th>day_added</th>\n",
              "      <th>year_added</th>\n",
              "      <th>month_added</th>\n",
              "    </tr>\n",
              "  </thead>\n",
              "  <tbody>\n",
              "    <tr>\n",
              "      <th>0</th>\n",
              "      <td>s1</td>\n",
              "      <td>TV Show</td>\n",
              "      <td>3%</td>\n",
              "      <td>unknown</td>\n",
              "      <td>João Miguel, Bianca Comparato, Michel Gomes, R...</td>\n",
              "      <td>Brazil</td>\n",
              "      <td>2020-08-14</td>\n",
              "      <td>2020</td>\n",
              "      <td>TV-MA</td>\n",
              "      <td>4 Seasons</td>\n",
              "      <td>International TV Shows, TV Dramas, TV Sci-Fi &amp;...</td>\n",
              "      <td>In a future where the elite inhabit an island ...</td>\n",
              "      <td>14</td>\n",
              "      <td>2020</td>\n",
              "      <td>8</td>\n",
              "    </tr>\n",
              "    <tr>\n",
              "      <th>1</th>\n",
              "      <td>s2</td>\n",
              "      <td>Movie</td>\n",
              "      <td>7:19</td>\n",
              "      <td>Jorge Michel Grau</td>\n",
              "      <td>Demián Bichir, Héctor Bonilla, Oscar Serrano, ...</td>\n",
              "      <td>Mexico</td>\n",
              "      <td>2016-12-23</td>\n",
              "      <td>2016</td>\n",
              "      <td>TV-MA</td>\n",
              "      <td>93 min</td>\n",
              "      <td>Dramas, International Movies</td>\n",
              "      <td>After a devastating earthquake hits Mexico Cit...</td>\n",
              "      <td>23</td>\n",
              "      <td>2016</td>\n",
              "      <td>12</td>\n",
              "    </tr>\n",
              "    <tr>\n",
              "      <th>2</th>\n",
              "      <td>s3</td>\n",
              "      <td>Movie</td>\n",
              "      <td>23:59</td>\n",
              "      <td>Gilbert Chan</td>\n",
              "      <td>Tedd Chan, Stella Chung, Henley Hii, Lawrence ...</td>\n",
              "      <td>Singapore</td>\n",
              "      <td>2018-12-20</td>\n",
              "      <td>2011</td>\n",
              "      <td>R</td>\n",
              "      <td>78 min</td>\n",
              "      <td>Horror Movies, International Movies</td>\n",
              "      <td>When an army recruit is found dead, his fellow...</td>\n",
              "      <td>20</td>\n",
              "      <td>2018</td>\n",
              "      <td>12</td>\n",
              "    </tr>\n",
              "    <tr>\n",
              "      <th>3</th>\n",
              "      <td>s4</td>\n",
              "      <td>Movie</td>\n",
              "      <td>9</td>\n",
              "      <td>Shane Acker</td>\n",
              "      <td>Elijah Wood, John C. Reilly, Jennifer Connelly...</td>\n",
              "      <td>United States</td>\n",
              "      <td>2017-11-16</td>\n",
              "      <td>2009</td>\n",
              "      <td>PG-13</td>\n",
              "      <td>80 min</td>\n",
              "      <td>Action &amp; Adventure, Independent Movies, Sci-Fi...</td>\n",
              "      <td>In a postapocalyptic world, rag-doll robots hi...</td>\n",
              "      <td>16</td>\n",
              "      <td>2017</td>\n",
              "      <td>11</td>\n",
              "    </tr>\n",
              "    <tr>\n",
              "      <th>4</th>\n",
              "      <td>s5</td>\n",
              "      <td>Movie</td>\n",
              "      <td>21</td>\n",
              "      <td>Robert Luketic</td>\n",
              "      <td>Jim Sturgess, Kevin Spacey, Kate Bosworth, Aar...</td>\n",
              "      <td>United States</td>\n",
              "      <td>2020-01-01</td>\n",
              "      <td>2008</td>\n",
              "      <td>PG-13</td>\n",
              "      <td>123 min</td>\n",
              "      <td>Dramas</td>\n",
              "      <td>A brilliant group of students become card-coun...</td>\n",
              "      <td>1</td>\n",
              "      <td>2020</td>\n",
              "      <td>1</td>\n",
              "    </tr>\n",
              "  </tbody>\n",
              "</table>\n",
              "</div>\n",
              "      <button class=\"colab-df-convert\" onclick=\"convertToInteractive('df-992ec331-bcf9-412a-bfdc-7efd75e882a3')\"\n",
              "              title=\"Convert this dataframe to an interactive table.\"\n",
              "              style=\"display:none;\">\n",
              "        \n",
              "  <svg xmlns=\"http://www.w3.org/2000/svg\" height=\"24px\"viewBox=\"0 0 24 24\"\n",
              "       width=\"24px\">\n",
              "    <path d=\"M0 0h24v24H0V0z\" fill=\"none\"/>\n",
              "    <path d=\"M18.56 5.44l.94 2.06.94-2.06 2.06-.94-2.06-.94-.94-2.06-.94 2.06-2.06.94zm-11 1L8.5 8.5l.94-2.06 2.06-.94-2.06-.94L8.5 2.5l-.94 2.06-2.06.94zm10 10l.94 2.06.94-2.06 2.06-.94-2.06-.94-.94-2.06-.94 2.06-2.06.94z\"/><path d=\"M17.41 7.96l-1.37-1.37c-.4-.4-.92-.59-1.43-.59-.52 0-1.04.2-1.43.59L10.3 9.45l-7.72 7.72c-.78.78-.78 2.05 0 2.83L4 21.41c.39.39.9.59 1.41.59.51 0 1.02-.2 1.41-.59l7.78-7.78 2.81-2.81c.8-.78.8-2.07 0-2.86zM5.41 20L4 18.59l7.72-7.72 1.47 1.35L5.41 20z\"/>\n",
              "  </svg>\n",
              "      </button>\n",
              "      \n",
              "  <style>\n",
              "    .colab-df-container {\n",
              "      display:flex;\n",
              "      flex-wrap:wrap;\n",
              "      gap: 12px;\n",
              "    }\n",
              "\n",
              "    .colab-df-convert {\n",
              "      background-color: #E8F0FE;\n",
              "      border: none;\n",
              "      border-radius: 50%;\n",
              "      cursor: pointer;\n",
              "      display: none;\n",
              "      fill: #1967D2;\n",
              "      height: 32px;\n",
              "      padding: 0 0 0 0;\n",
              "      width: 32px;\n",
              "    }\n",
              "\n",
              "    .colab-df-convert:hover {\n",
              "      background-color: #E2EBFA;\n",
              "      box-shadow: 0px 1px 2px rgba(60, 64, 67, 0.3), 0px 1px 3px 1px rgba(60, 64, 67, 0.15);\n",
              "      fill: #174EA6;\n",
              "    }\n",
              "\n",
              "    [theme=dark] .colab-df-convert {\n",
              "      background-color: #3B4455;\n",
              "      fill: #D2E3FC;\n",
              "    }\n",
              "\n",
              "    [theme=dark] .colab-df-convert:hover {\n",
              "      background-color: #434B5C;\n",
              "      box-shadow: 0px 1px 3px 1px rgba(0, 0, 0, 0.15);\n",
              "      filter: drop-shadow(0px 1px 2px rgba(0, 0, 0, 0.3));\n",
              "      fill: #FFFFFF;\n",
              "    }\n",
              "  </style>\n",
              "\n",
              "      <script>\n",
              "        const buttonEl =\n",
              "          document.querySelector('#df-992ec331-bcf9-412a-bfdc-7efd75e882a3 button.colab-df-convert');\n",
              "        buttonEl.style.display =\n",
              "          google.colab.kernel.accessAllowed ? 'block' : 'none';\n",
              "\n",
              "        async function convertToInteractive(key) {\n",
              "          const element = document.querySelector('#df-992ec331-bcf9-412a-bfdc-7efd75e882a3');\n",
              "          const dataTable =\n",
              "            await google.colab.kernel.invokeFunction('convertToInteractive',\n",
              "                                                     [key], {});\n",
              "          if (!dataTable) return;\n",
              "\n",
              "          const docLinkHtml = 'Like what you see? Visit the ' +\n",
              "            '<a target=\"_blank\" href=https://colab.research.google.com/notebooks/data_table.ipynb>data table notebook</a>'\n",
              "            + ' to learn more about interactive tables.';\n",
              "          element.innerHTML = '';\n",
              "          dataTable['output_type'] = 'display_data';\n",
              "          await google.colab.output.renderOutput(dataTable, element);\n",
              "          const docLink = document.createElement('div');\n",
              "          docLink.innerHTML = docLinkHtml;\n",
              "          element.appendChild(docLink);\n",
              "        }\n",
              "      </script>\n",
              "    </div>\n",
              "  </div>\n",
              "  "
            ]
          },
          "metadata": {},
          "execution_count": 12
        }
      ]
    },
    {
      "cell_type": "markdown",
      "source": [
        "**Handling Outliers**"
      ],
      "metadata": {
        "id": "2bmFGEMOeGKc"
      }
    },
    {
      "cell_type": "code",
      "source": [
        "numerical_features=['release_year','day_added','month_added','year_added']"
      ],
      "metadata": {
        "id": "TzGCgdmJeDy6"
      },
      "execution_count": 13,
      "outputs": []
    },
    {
      "cell_type": "code",
      "source": [
        "for col in numerical_features:  #subplotting all the values with outliers \n",
        "  fig, ax =plt.subplots(1,2, constrained_layout=True)\n",
        "  fig.set_size_inches(15, 3)\n",
        "  sns.distplot(df[col], ax=ax[0]).set(title=\"Outliers\")\n",
        "  sns.boxplot(df[col], ax=ax[1]).set(title=\"Outliers\")\n",
        "  plt.suptitle(f'{col.title()}',weight='bold')"
      ],
      "metadata": {
        "colab": {
          "base_uri": "https://localhost:8080/",
          "height": 913
        },
        "id": "QqNujPjgeKGx",
        "outputId": "6382635f-5c41-42a1-f484-0fb809e08cba"
      },
      "execution_count": 14,
      "outputs": [
        {
          "output_type": "display_data",
          "data": {
            "text/plain": [
              "<Figure size 1080x216 with 2 Axes>"
            ],
            "image/png": "[encoded data removed]"
          },
          "metadata": {
            "needs_background": "light"
          }
        },
        {
          "output_type": "display_data",
          "data": {
            "text/plain": [
              "<Figure size 1080x216 with 2 Axes>"
            ],
            "image/png": "[encoded data removed]"
          },
          "metadata": {
            "needs_background": "light"
          }
        },
        {
          "output_type": "display_data",
          "data": {
            "text/plain": [
              "<Figure size 1080x216 with 2 Axes>"
            ],
            "image/png": "[encoded data removed]"
          },
          "metadata": {
            "needs_background": "light"
          }
        },
        {
          "output_type": "display_data",
          "data": {
            "text/plain": [
              "<Figure size 1080x216 with 2 Axes>"
            ],
            "image/png": "[encoded data removed]"
          },
          "metadata": {
            "needs_background": "light"
          }
        }
      ]
    },
    {
      "cell_type": "markdown",
      "source": [
        "There are Outliers in column 'release year' and 'year added'. So we apply IQR method to treat Outliers."
      ],
      "metadata": {
        "id": "RIkZ8HbWeOpJ"
      }
    },
    {
      "cell_type": "code",
      "source": [
        "for col in ['release_year','year_added']:#redefining the data and setting the outliers value with the range\n",
        "  \n",
        "  lower_cap, q1, q3, upper_cap, median = df[col].quantile([0.01,0.25,0.75,0.99,0.5])\n",
        "  lower_limit = q1 - 1.5*(q3-q1)\n",
        "  upper_limit = q3 + 1.5*(q3-q1)\n",
        "\n",
        "  \n",
        "  df[col] = np.where(df[col] > upper_limit, median,np.where(\n",
        "                         df[col] < lower_limit,median,np.where(\n",
        "                         df[col] < lower_cap,lower_cap,np.where(\n",
        "                         df[col] > upper_cap,upper_cap,df[col]))))"
      ],
      "metadata": {
        "id": "kvogxnBSeMOq"
      },
      "execution_count": 15,
      "outputs": []
    },
    {
      "cell_type": "code",
      "source": [
        "for col in ['release_year','year_added']:\n",
        "  fig, ax =plt.subplots(1,2, constrained_layout=True)\n",
        "  fig.set_size_inches(15, 3)\n",
        "  sns.distplot(df[col], ax=ax[0]).set(title=\"Outliers Handled\")\n",
        "  sns.boxplot(df[col], ax=ax[1]).set(title=\"Outliers Handled\")\n",
        "  plt.suptitle(f'{col.title()}',weight='bold')\n",
        "  fig.show()"
      ],
      "metadata": {
        "colab": {
          "base_uri": "https://localhost:8080/",
          "height": 465
        },
        "id": "pOV4sz_AeR4C",
        "outputId": "25157912-5107-4744-dcbe-b4ccfa07c15b"
      },
      "execution_count": 16,
      "outputs": [
        {
          "output_type": "display_data",
          "data": {
            "text/plain": [
              "<Figure size 1080x216 with 2 Axes>"
            ],
            "image/png": "[encoded data removed]"
          },
          "metadata": {
            "needs_background": "light"
          }
        },
        {
          "output_type": "display_data",
          "data": {
            "text/plain": [
              "<Figure size 1080x216 with 2 Axes>"
            ],
            "image/png": "[encoded data removed]"
          },
          "metadata": {
            "needs_background": "light"
          }
        }
      ]
    },
    {
      "cell_type": "markdown",
      "source": [
        "## **EXPLORATORY DATA ANALYSIS**\n"
      ],
      "metadata": {
        "id": "8TvWm0-pfjdH"
      }
    },
    {
      "cell_type": "markdown",
      "source": [
        "### **Release year of Movies/TV Shows**"
      ],
      "metadata": {
        "id": "8s3ZU3QGgAbj"
      }
    },
    {
      "cell_type": "code",
      "source": [
        "a = plt.figure(figsize=(20,8))\n",
        "a = sns.histplot(x='release_year', hue = 'type', multiple=\"dodge\", data = df,discrete=True, palette =\"GnBu\", shrink=.6,bins=50)\n",
        "a = plt.xticks(ticks= np.arange(df.release_year.min(),df.release_year.max()+1,1), rotation = 90)\n",
        "a = plt.title('Distribution of Movie/Shows Release Dates',fontsize = 14, fontweight='bold')\n",
        "a = plt.xlabel('Release Year',fontsize = 12)"
      ],
      "metadata": {
        "colab": {
          "base_uri": "https://localhost:8080/",
          "height": 532
        },
        "id": "EYlQlh0ueUEZ",
        "outputId": "06d24363-3546-44c3-a532-e71565a7d1d7"
      },
      "execution_count": 17,
      "outputs": [
        {
          "output_type": "display_data",
          "data": {
            "text/plain": [
              "<Figure size 1440x576 with 1 Axes>"
            ],
            "image/png": "[encoded data removed]"
          },
          "metadata": {
            "needs_background": "light"
          }
        }
      ]
    },
    {
      "cell_type": "markdown",
      "source": [
        "* Maximum number of Movies streaming on the platform were released in 2017.\n",
        "* Most TV Shows streaming on the platform were released after 2015\n",
        "* Since the number of movies releasing each year has started decreasing after * * 2017 whereas number of TV Shows have increased gradually after 2015."
      ],
      "metadata": {
        "id": "61PdRClugZUM"
      }
    },
    {
      "cell_type": "markdown",
      "source": [
        "### **Number of Movies/TV Shows added per Year and per Month**"
      ],
      "metadata": {
        "id": "wxQOM7jdgfps"
      }
    },
    {
      "cell_type": "code",
      "source": [
        "a = plt.figure(figsize=(20,8))\n",
        "a = sns.histplot(x='year_added', hue = 'type', multiple=\"dodge\", data = df,discrete=True, palette =\"Set2\",shrink=.6,bins=50)\n",
        "a = plt.xticks(ticks= np.arange(df.year_added.min(),df.year_added.max()+1,1), rotation = 90)\n",
        "a = plt.title('Number of Movie/Shows Added every Year',fontsize = 14, fontweight='bold')\n",
        "a = plt.xlabel('Added Year',fontsize = 12)"
      ],
      "metadata": {
        "colab": {
          "base_uri": "https://localhost:8080/",
          "height": 532
        },
        "id": "8vb2HWVBgE6v",
        "outputId": "2e997514-a474-4dee-b010-b6e5b060c251"
      },
      "execution_count": 18,
      "outputs": [
        {
          "output_type": "display_data",
          "data": {
            "text/plain": [
              "<Figure size 1440x576 with 1 Axes>"
            ],
            "image/png": "[encoded data removed]"
          },
          "metadata": {
            "needs_background": "light"
          }
        }
      ]
    },
    {
      "cell_type": "markdown",
      "source": [
        "* Number of movies added to the platform showed a deliberate increase after 2017 to 2019 and has been decreased after that.\n",
        "* Whereas TV Shows have been added continuously from 2015 and its number been increased every year."
      ],
      "metadata": {
        "id": "fjq2osAsgoNX"
      }
    },
    {
      "cell_type": "code",
      "source": [
        "a = plt.figure(figsize=(20,8))\n",
        "a = sns.histplot(x='month_added', hue = 'type', multiple=\"dodge\", data = df,discrete=True, palette =\"Set1\",shrink=.6,bins=50)\n",
        "a = plt.xticks(ticks= np.arange(df.month_added.min(),df.month_added.max()+1,1))\n",
        "a = plt.title('Total Movie/Shows Added in each month',fontsize = 14, fontweight='bold')\n",
        "a = plt.xlabel('Added Month',fontsize = 12)"
      ],
      "metadata": {
        "colab": {
          "base_uri": "https://localhost:8080/",
          "height": 517
        },
        "id": "2tO7i9e2gjpS",
        "outputId": "930236b1-0b91-4eb2-c3a4-d22fbe0e5320"
      },
      "execution_count": 19,
      "outputs": [
        {
          "output_type": "display_data",
          "data": {
            "text/plain": [
              "<Figure size 1440x576 with 1 Axes>"
            ],
            "image/png": "[encoded data removed]"
          },
          "metadata": {
            "needs_background": "light"
          }
        }
      ]
    },
    {
      "cell_type": "markdown",
      "source": [
        "Most number of Movies and TV Shows are added between October and January"
      ],
      "metadata": {
        "id": "9QNhloQxgv8-"
      }
    },
    {
      "cell_type": "markdown",
      "source": [
        "### **Top 10 Directors**"
      ],
      "metadata": {
        "id": "PSwg-TM-gziN"
      }
    },
    {
      "cell_type": "code",
      "source": [
        "a=df[df.director != 'unknown'].loc[:,['show_id','title','director', 'cast']].copy()\n",
        "director = (a['director'].to_list())\n",
        "\n",
        "newlist = []\n",
        "for genre in director:\n",
        "  if ',' in genre:\n",
        "    a = genre.split(', ')\n",
        "    newlist = newlist + a\n",
        "  else:\n",
        "    newlist.append(genre)\n",
        "country_list = pd.DataFrame({'Director' : newlist, 'show_id':np.arange(0,len(newlist),1)})\n",
        "a = country_list.groupby('Director').agg({'show_id':'count'}).sort_values('show_id', ascending= False).reset_index().head(10)\n",
        "plt.figure(figsize=(15,10))\n",
        "a = sns.barplot(y = 'Director', x = 'show_id',data = a , palette= 'cividis')\n",
        "a = plt.title('Directors on Netflix',fontsize = 14, fontweight='bold')\n",
        "a = plt.ylabel('Director',fontsize = 12)\n",
        "a = plt.xlabel('Number of Movies/Shows Directed',fontsize = 12)\n",
        "top10directors = country_list.groupby('Director').agg({'show_id':'count'}).sort_values('show_id', ascending= False).reset_index().head(10)['Director'].to_list"
      ],
      "metadata": {
        "colab": {
          "base_uri": "https://localhost:8080/",
          "height": 626
        },
        "id": "aRcG8G2RgtqJ",
        "outputId": "ce659e90-f87e-40bf-9172-1f9457915c22"
      },
      "execution_count": 20,
      "outputs": [
        {
          "output_type": "display_data",
          "data": {
            "text/plain": [
              "<Figure size 1080x720 with 1 Axes>"
            ],
            "image/png": "[encoded data removed]"
          },
          "metadata": {
            "needs_background": "light"
          }
        }
      ]
    },
    {
      "cell_type": "markdown",
      "source": [
        "Top 3 Directors are-\n",
        "\n",
        "1. Jan Suter\n",
        "2. Raul Campos\n",
        "3. Marcus Raboy"
      ],
      "metadata": {
        "id": "010ejj0Bg5gz"
      }
    },
    {
      "cell_type": "markdown",
      "source": [
        "### **Top 10 Actors**\n"
      ],
      "metadata": {
        "id": "Kvn6HabHhCyV"
      }
    },
    {
      "cell_type": "code",
      "source": [
        "a=df[df.cast != 'No cast'].loc[:,['show_id','title','director', 'cast']].copy()\n",
        "cast = (a['cast'].to_list())\n",
        "\n",
        "newlist = []\n",
        "for genre in cast:\n",
        "  if ',' in genre:\n",
        "    a = genre.split(', ')\n",
        "    newlist = newlist + a\n",
        "  else:\n",
        "    newlist.append(genre)\n",
        "country_list = pd.DataFrame({'Actor' : newlist, 'show_id':np.arange(0,len(newlist),1)})\n",
        "a = country_list.groupby('Actor').agg({'show_id':'count'}).sort_values('show_id', ascending= False).head(10).reset_index()\n",
        "plt.figure(figsize=(15,10))\n",
        "a = sns.barplot(y = 'Actor', x = 'show_id',data = a , palette= 'inferno')\n",
        "a = plt.title('Actors on Netflix',fontsize = 14, fontweight='bold')\n",
        "a = plt.ylabel('Actor',fontsize = 12)\n",
        "a = plt.xlabel('Number of Movies/Shows Casted',fontsize = 12)\n",
        "top10actors = country_list.groupby('Actor').agg({'show_id':'count'}).sort_values('show_id', ascending= False).head(20).reset_index()['Actor'].to_list()"
      ],
      "metadata": {
        "colab": {
          "base_uri": "https://localhost:8080/",
          "height": 626
        },
        "id": "_Iy6YmIYg3OS",
        "outputId": "a3913013-cab8-447a-de34-69a60fbbbd68"
      },
      "execution_count": 21,
      "outputs": [
        {
          "output_type": "display_data",
          "data": {
            "text/plain": [
              "<Figure size 1080x720 with 1 Axes>"
            ],
            "image/png": "[encoded data removed]"
          },
          "metadata": {
            "needs_background": "light"
          }
        }
      ]
    },
    {
      "cell_type": "markdown",
      "source": [
        "Top 3 Actors are\n",
        "\n",
        "1.   **Anupam Kher**\n",
        "2.   **Shah Rukh Khan**\n",
        "3.   **Om Puri**"
      ],
      "metadata": {
        "id": "oUkBLa0PhLMc"
      }
    },
    {
      "cell_type": "markdown",
      "source": [
        "### **Top Genres on Netflix**"
      ],
      "metadata": {
        "id": "kzW1Nz72hP3n"
      }
    },
    {
      "cell_type": "code",
      "source": [
        "#creating two extra columns\n",
        "tv_shows=df[df['type']=='TV Show']\n",
        "movies=df[df['type']=='Movie']"
      ],
      "metadata": {
        "id": "RGg2AFtmhHW6"
      },
      "execution_count": 22,
      "outputs": []
    },
    {
      "cell_type": "code",
      "source": [
        "a=movies.loc[:,['show_id','listed_in']].copy()\n",
        "movie = (a['listed_in'].to_list())\n",
        "\n",
        "movie_list = []\n",
        "for genre in movie:\n",
        "  if ',' in genre:\n",
        "    a = genre.split(', ')\n",
        "    movie_list = movie_list + a\n",
        "  else:\n",
        "    movie_list.append(genre)\n",
        "movie_list = pd.DataFrame({'listed_in' : movie_list, 'show_id':np.arange(0,len(movie_list),1)})\n",
        "a = movie_list.groupby('listed_in').agg({'show_id':'count'}).sort_values('show_id', ascending= False).head(10).reset_index()\n",
        "plt.figure(figsize=(15,10))\n",
        "a = sns.barplot(y = 'listed_in', x = 'show_id',data = a )\n",
        "a = plt.title('Top10 Genre of Movies',fontsize = 14, fontweight='bold')\n",
        "a = plt.ylabel('Genres',fontsize = 12)\n",
        "a = plt.xlabel('Number of Movies ',fontsize = 12)\n",
        "top10_movie_genre = movie_list.groupby('listed_in').agg({'show_id':'count'}).sort_values('show_id', ascending= False).head(10).reset_index()['listed_in'].to_list()"
      ],
      "metadata": {
        "colab": {
          "base_uri": "https://localhost:8080/",
          "height": 626
        },
        "id": "LAc4wjpThUVp",
        "outputId": "0574e9d3-24d0-4142-d91f-4f4ad45de2e4"
      },
      "execution_count": 23,
      "outputs": [
        {
          "output_type": "display_data",
          "data": {
            "text/plain": [
              "<Figure size 1080x720 with 1 Axes>"
            ],
            "image/png": "[encoded data removed]"
          },
          "metadata": {
            "needs_background": "light"
          }
        }
      ]
    },
    {
      "cell_type": "code",
      "source": [
        "a=tv_shows.loc[:,['show_id','listed_in']].copy()\n",
        "tv = (a['listed_in'].to_list())\n",
        "\n",
        "tv_show_list = []\n",
        "for genre in tv:\n",
        "  if ',' in genre:\n",
        "    a = genre.split(', ')\n",
        "    tv_show_list = tv_show_list + a\n",
        "  else:\n",
        "    tv_show_list.append(genre)\n",
        "tv_show_list = pd.DataFrame({'listed_in' : tv_show_list, 'show_id':np.arange(0,len(tv_show_list),1)})\n",
        "a = tv_show_list.groupby('listed_in').agg({'show_id':'count'}).sort_values('show_id', ascending= False).head(10).reset_index()\n",
        "plt.figure(figsize=(15,10))\n",
        "a = sns.barplot(y = 'listed_in', x = 'show_id',data = a )\n",
        "a = plt.title('Top10 Genre of TV Shows',fontsize = 14, fontweight='bold')\n",
        "a = plt.ylabel('Genres',fontsize = 12)\n",
        "a = plt.xlabel('Number of TV Shows ',fontsize = 12)\n",
        "top_10_tv_show_genre = tv_show_list.groupby('listed_in').agg({'show_id':'count'}).sort_values('show_id', ascending= False).head(10).reset_index()['listed_in'].to_list()"
      ],
      "metadata": {
        "colab": {
          "base_uri": "https://localhost:8080/",
          "height": 626
        },
        "id": "HyBXPRiAhYgh",
        "outputId": "1360166f-c1fe-4da1-ee5d-44fd5b46388e"
      },
      "execution_count": 24,
      "outputs": [
        {
          "output_type": "display_data",
          "data": {
            "text/plain": [
              "<Figure size 1080x720 with 1 Axes>"
            ],
            "image/png": "[encoded data removed]"
          },
          "metadata": {
            "needs_background": "light"
          }
        }
      ]
    },
    {
      "cell_type": "markdown",
      "source": [
        "In both Movies and TV Shows top genres are International Movies/Shows, Dramas and Comedies."
      ],
      "metadata": {
        "id": "nevwJNAAhfkD"
      }
    },
    {
      "cell_type": "markdown",
      "source": [
        "### **Top 10 Countries producing content on Netflix**"
      ],
      "metadata": {
        "id": "xgwkePk2hiGW"
      }
    },
    {
      "cell_type": "code",
      "source": [
        "a = df.loc[:,['show_id','title','country']].copy()\n",
        "country_list = (a['country'].to_list())\n",
        "\n",
        "newlist = []\n",
        "for country in country_list:\n",
        "  if ',' in country:\n",
        "    a = genre.split(', ')\n",
        "    country_list = country_list + a\n",
        "  else:\n",
        "    newlist.append(country)\n",
        "\n",
        "country_list = pd.DataFrame({'country' : newlist, 'show_id':np.arange(0,len(newlist),1)})\n",
        "a = country_list.groupby('country').agg({'show_id':'count'}).sort_values('show_id', ascending= False).head(10).reset_index()\n",
        "plt.figure(figsize=(15,10))\n",
        "a = sns.barplot(x = 'country', y = 'show_id',data = a , palette='icefire_r')\n",
        "a = plt.title('Movies/Show numbers produced in Countries',fontsize = 14, fontweight='bold')\n",
        "a = plt.ylabel('Country',fontsize = 12)\n",
        "a = plt.xlabel('Number of Videos',fontsize = 12)\n",
        "top10countries = country_list.groupby('country').agg({'show_id':'count'}).sort_values('show_id', ascending= False).head(10).reset_index()['country'].unique()"
      ],
      "metadata": {
        "colab": {
          "base_uri": "https://localhost:8080/",
          "height": 626
        },
        "id": "TJpc3zB5hc0J",
        "outputId": "c47de97c-4af7-45b4-8a00-d022ece71256"
      },
      "execution_count": 25,
      "outputs": [
        {
          "output_type": "display_data",
          "data": {
            "text/plain": [
              "<Figure size 1080x720 with 1 Axes>"
            ],
            "image/png": "[encoded data removed]"
          },
          "metadata": {
            "needs_background": "light"
          }
        }
      ]
    },
    {
      "cell_type": "markdown",
      "source": [
        "United States is the country producing maximum content on Netflix followed by India and UK."
      ],
      "metadata": {
        "id": "XYh_LVVlhs-J"
      }
    },
    {
      "cell_type": "markdown",
      "source": [
        "### **Ratings of content**"
      ],
      "metadata": {
        "id": "g0GaVKPGiQ_P"
      }
    },
    {
      "cell_type": "markdown",
      "source": [
        "Netflix Rating of Movies/TV Shows based on content:-\n",
        "\n",
        "* TV-MA :for Mature Audiences\n",
        "\n",
        "* R : Restricted\n",
        "\n",
        "* PG-13 : Parents strongly cautioned. May be Inappropriate for ages 12 and under\n",
        "\n",
        "* TV-14 : Parents strongly cautioned. May not be suitable for ages 14 and under\n",
        "\n",
        "* TV-PG : Parental Guidance suggested\n",
        "\n",
        "* NR : Not Rated\n",
        "\n",
        "* TV-G : Suitable for General Audiences\n",
        "\n",
        "* TV-Y : Designed to be appropriate for all children\n",
        "\n",
        "* PG : Parental Guidance suggested\n",
        "\n",
        "* G : Suitable for General Audiences\n",
        "\n",
        "* NC-17 : the content isn't suitable for children under 17 and younger\n",
        "\n",
        "* TV-Y7-FV : Suitable for ages 7 and up"
      ],
      "metadata": {
        "id": "Qkv8kqbKiWzt"
      }
    },
    {
      "cell_type": "code",
      "source": [
        "# Rating\n",
        "a = df.loc[:,['show_id','title','rating']].copy()\n",
        "rating_list = (a['rating'].to_list())\n",
        "\n",
        "newlist = []\n",
        "for rating in rating_list:\n",
        "  newlist.append(rating)\n",
        "\n",
        "rating_list = pd.DataFrame({'rating' : newlist, 'show_id':np.arange(0,len(newlist),1)})\n",
        "a = rating_list.groupby('rating').agg({'show_id':'count'}).sort_values('show_id', ascending= False).head(10).reset_index()\n",
        "plt.figure(figsize=(10,8))\n",
        "a = sns.pointplot(x = 'rating', y = 'show_id',data = a )\n",
        "a = plt.title('Rating of Contents',fontsize = 14, fontweight='bold')\n",
        "a = plt.xlabel('Rating',fontsize = 12)\n",
        "a = plt.ylabel('Number of Videos',fontsize = 12)\n",
        "top10countries = rating_list.groupby('rating').agg({'show_id':'count'}).sort_values('show_id', ascending= False).head(10).reset_index()['rating'].unique()"
      ],
      "metadata": {
        "colab": {
          "base_uri": "https://localhost:8080/",
          "height": 517
        },
        "id": "092IYLJIh0Gx",
        "outputId": "6f84008f-5202-4702-a908-8675d39c6eba"
      },
      "execution_count": 26,
      "outputs": [
        {
          "output_type": "display_data",
          "data": {
            "text/plain": [
              "<Figure size 720x576 with 1 Axes>"
            ],
            "image/png": "[encoded data removed]"
          },
          "metadata": {
            "needs_background": "light"
          }
        }
      ]
    },
    {
      "cell_type": "markdown",
      "source": [
        "Most content on Netflix is rated for Mature Audiences(MA) and over 14 years old"
      ],
      "metadata": {
        "id": "w1cCoxKZilZR"
      }
    },
    {
      "cell_type": "markdown",
      "source": [
        "### **Duration of Movies/TV Shows**"
      ],
      "metadata": {
        "id": "TnEqPouHin-t"
      }
    },
    {
      "cell_type": "code",
      "source": [
        "a=df[df['type']=='Movie'].loc[:,['show_id','title','duration']].copy()\n",
        "duration = (a['duration'].to_list())\n",
        "\n",
        "duration_list = []\n",
        "for duration in duration:\n",
        "  duration_list.append(int(duration.split(' ')[0]))\n",
        "duration_list = pd.DataFrame({'Duration' : duration_list, 'show_id':np.arange(0,len(duration_list),1)})\n",
        "plt.figure(figsize=(8,8))\n",
        "a = sns.displot(x= 'Duration',  data = duration_list, kind = 'hist', height=10, aspect=2, bins = 50,kde=True)\n",
        "a = plt.title('Distribution of Movie Duration')\n",
        "a = plt.xlabel('Minutes')\n",
        "a = plt.xticks(ticks = np.arange(0,duration_list.Duration.max()+1,10))"
      ],
      "metadata": {
        "colab": {
          "base_uri": "https://localhost:8080/",
          "height": 683
        },
        "id": "kc3Swt1bii6i",
        "outputId": "c9f96e74-1fc8-4e0d-d3a0-15c1533052b2"
      },
      "execution_count": 27,
      "outputs": [
        {
          "output_type": "display_data",
          "data": {
            "text/plain": [
              "<Figure size 576x576 with 0 Axes>"
            ]
          },
          "metadata": {}
        },
        {
          "output_type": "display_data",
          "data": {
            "text/plain": [
              "<Figure size 1440x720 with 1 Axes>"
            ],
            "image/png": "[encoded data removed]"
          },
          "metadata": {
            "needs_background": "light"
          }
        }
      ]
    },
    {
      "cell_type": "markdown",
      "source": [
        "Most movies on Netflix have a duration range from 80 to 120 minutes"
      ],
      "metadata": {
        "id": "JScRzPCZitAX"
      }
    },
    {
      "cell_type": "code",
      "source": [
        "#Checking the distribution of TV SHOWS\n",
        "plt.figure(figsize=(30,6))\n",
        "plt.title(\"Distribution of TV Shows duration\",fontweight='bold')\n",
        "sns.countplot(x=tv_shows['duration'],data=tv_shows,order = tv_shows['duration'].value_counts().index)"
      ],
      "metadata": {
        "colab": {
          "base_uri": "https://localhost:8080/",
          "height": 319
        },
        "id": "6EvWkdFsiq9a",
        "outputId": "26d46814-80bc-48a2-a39e-27e9d7cd57e6"
      },
      "execution_count": 28,
      "outputs": [
        {
          "output_type": "execute_result",
          "data": {
            "text/plain": [
              "<matplotlib.axes._subplots.AxesSubplot at 0x7f8fe04bb640>"
            ]
          },
          "metadata": {},
          "execution_count": 28
        },
        {
          "output_type": "display_data",
          "data": {
            "text/plain": [
              "<Figure size 2160x432 with 1 Axes>"
            ],
            "image/png": "[encoded data removed]"
          },
          "metadata": {
            "needs_background": "light"
          }
        }
      ]
    },
    {
      "cell_type": "markdown",
      "source": [
        "More number of TV shows are having single season"
      ],
      "metadata": {
        "id": "P80-yIDKixXT"
      }
    },
    {
      "cell_type": "markdown",
      "source": [
        "**Longest TV Shows**"
      ],
      "metadata": {
        "id": "LRIvPKUqi0DF"
      }
    },
    {
      "cell_type": "code",
      "source": [
        "#Finding Longest TV Shows\n",
        "tv_shows['duration']=tv_shows['duration'].str.replace('Season','')\n",
        "tv_shows['duration']=tv_shows['duration'].str.replace('s','')\n",
        "tv_shows['duration']=tv_shows['duration'].astype(str).astype(int)\n",
        "long_shows = tv_shows[tv_shows['duration']>9]\n",
        "long_shows_df = long_shows[['title','duration']]\n",
        "long_shows_df.sort_values(by=['duration'],ascending=False)"
      ],
      "metadata": {
        "colab": {
          "base_uri": "https://localhost:8080/",
          "height": 457
        },
        "id": "7LuwiVoqivky",
        "outputId": "0fffe09c-7f93-4079-a9b1-10934c3f9c5c"
      },
      "execution_count": 29,
      "outputs": [
        {
          "output_type": "execute_result",
          "data": {
            "text/plain": [
              "                                   title  duration\n",
              "2538                      Grey's Anatomy        16\n",
              "4438                                NCIS        15\n",
              "5912                        Supernatural        15\n",
              "1471              COMEDIANS of the world        13\n",
              "1537                      Criminal Minds        12\n",
              "7169                   Trailer Park Boys        12\n",
              "1300                              Cheers        11\n",
              "2678                           Heartland        11\n",
              "1577                          Dad's Army        10\n",
              "1597    Danger Mouse: Classic Collection        10\n",
              "3592  LEGO Ninjago: Masters of Spinjitzu        10\n",
              "5538                    Shameless (U.S.)        10\n",
              "5795                       Stargate SG-1        10"
            ],
            "text/html": [
              "\n",
              "  <div id=\"df-9dfc2b60-ab24-4e0b-a45b-15ff2fc38d13\">\n",
              "    <div class=\"colab-df-container\">\n",
              "      <div>\n",
              "<style scoped>\n",
              "    .dataframe tbody tr th:only-of-type {\n",
              "        vertical-align: middle;\n",
              "    }\n",
              "\n",
              "    .dataframe tbody tr th {\n",
              "        vertical-align: top;\n",
              "    }\n",
              "\n",
              "    .dataframe thead th {\n",
              "        text-align: right;\n",
              "    }\n",
              "</style>\n",
              "<table border=\"1\" class=\"dataframe\">\n",
              "  <thead>\n",
              "    <tr style=\"text-align: right;\">\n",
              "      <th></th>\n",
              "      <th>title</th>\n",
              "      <th>duration</th>\n",
              "    </tr>\n",
              "  </thead>\n",
              "  <tbody>\n",
              "    <tr>\n",
              "      <th>2538</th>\n",
              "      <td>Grey's Anatomy</td>\n",
              "      <td>16</td>\n",
              "    </tr>\n",
              "    <tr>\n",
              "      <th>4438</th>\n",
              "      <td>NCIS</td>\n",
              "      <td>15</td>\n",
              "    </tr>\n",
              "    <tr>\n",
              "      <th>5912</th>\n",
              "      <td>Supernatural</td>\n",
              "      <td>15</td>\n",
              "    </tr>\n",
              "    <tr>\n",
              "      <th>1471</th>\n",
              "      <td>COMEDIANS of the world</td>\n",
              "      <td>13</td>\n",
              "    </tr>\n",
              "    <tr>\n",
              "      <th>1537</th>\n",
              "      <td>Criminal Minds</td>\n",
              "      <td>12</td>\n",
              "    </tr>\n",
              "    <tr>\n",
              "      <th>7169</th>\n",
              "      <td>Trailer Park Boys</td>\n",
              "      <td>12</td>\n",
              "    </tr>\n",
              "    <tr>\n",
              "      <th>1300</th>\n",
              "      <td>Cheers</td>\n",
              "      <td>11</td>\n",
              "    </tr>\n",
              "    <tr>\n",
              "      <th>2678</th>\n",
              "      <td>Heartland</td>\n",
              "      <td>11</td>\n",
              "    </tr>\n",
              "    <tr>\n",
              "      <th>1577</th>\n",
              "      <td>Dad's Army</td>\n",
              "      <td>10</td>\n",
              "    </tr>\n",
              "    <tr>\n",
              "      <th>1597</th>\n",
              "      <td>Danger Mouse: Classic Collection</td>\n",
              "      <td>10</td>\n",
              "    </tr>\n",
              "    <tr>\n",
              "      <th>3592</th>\n",
              "      <td>LEGO Ninjago: Masters of Spinjitzu</td>\n",
              "      <td>10</td>\n",
              "    </tr>\n",
              "    <tr>\n",
              "      <th>5538</th>\n",
              "      <td>Shameless (U.S.)</td>\n",
              "      <td>10</td>\n",
              "    </tr>\n",
              "    <tr>\n",
              "      <th>5795</th>\n",
              "      <td>Stargate SG-1</td>\n",
              "      <td>10</td>\n",
              "    </tr>\n",
              "  </tbody>\n",
              "</table>\n",
              "</div>\n",
              "      <button class=\"colab-df-convert\" onclick=\"convertToInteractive('df-9dfc2b60-ab24-4e0b-a45b-15ff2fc38d13')\"\n",
              "              title=\"Convert this dataframe to an interactive table.\"\n",
              "              style=\"display:none;\">\n",
              "        \n",
              "  <svg xmlns=\"http://www.w3.org/2000/svg\" height=\"24px\"viewBox=\"0 0 24 24\"\n",
              "       width=\"24px\">\n",
              "    <path d=\"M0 0h24v24H0V0z\" fill=\"none\"/>\n",
              "    <path d=\"M18.56 5.44l.94 2.06.94-2.06 2.06-.94-2.06-.94-.94-2.06-.94 2.06-2.06.94zm-11 1L8.5 8.5l.94-2.06 2.06-.94-2.06-.94L8.5 2.5l-.94 2.06-2.06.94zm10 10l.94 2.06.94-2.06 2.06-.94-2.06-.94-.94-2.06-.94 2.06-2.06.94z\"/><path d=\"M17.41 7.96l-1.37-1.37c-.4-.4-.92-.59-1.43-.59-.52 0-1.04.2-1.43.59L10.3 9.45l-7.72 7.72c-.78.78-.78 2.05 0 2.83L4 21.41c.39.39.9.59 1.41.59.51 0 1.02-.2 1.41-.59l7.78-7.78 2.81-2.81c.8-.78.8-2.07 0-2.86zM5.41 20L4 18.59l7.72-7.72 1.47 1.35L5.41 20z\"/>\n",
              "  </svg>\n",
              "      </button>\n",
              "      \n",
              "  <style>\n",
              "    .colab-df-container {\n",
              "      display:flex;\n",
              "      flex-wrap:wrap;\n",
              "      gap: 12px;\n",
              "    }\n",
              "\n",
              "    .colab-df-convert {\n",
              "      background-color: #E8F0FE;\n",
              "      border: none;\n",
              "      border-radius: 50%;\n",
              "      cursor: pointer;\n",
              "      display: none;\n",
              "      fill: #1967D2;\n",
              "      height: 32px;\n",
              "      padding: 0 0 0 0;\n",
              "      width: 32px;\n",
              "    }\n",
              "\n",
              "    .colab-df-convert:hover {\n",
              "      background-color: #E2EBFA;\n",
              "      box-shadow: 0px 1px 2px rgba(60, 64, 67, 0.3), 0px 1px 3px 1px rgba(60, 64, 67, 0.15);\n",
              "      fill: #174EA6;\n",
              "    }\n",
              "\n",
              "    [theme=dark] .colab-df-convert {\n",
              "      background-color: #3B4455;\n",
              "      fill: #D2E3FC;\n",
              "    }\n",
              "\n",
              "    [theme=dark] .colab-df-convert:hover {\n",
              "      background-color: #434B5C;\n",
              "      box-shadow: 0px 1px 3px 1px rgba(0, 0, 0, 0.15);\n",
              "      filter: drop-shadow(0px 1px 2px rgba(0, 0, 0, 0.3));\n",
              "      fill: #FFFFFF;\n",
              "    }\n",
              "  </style>\n",
              "\n",
              "      <script>\n",
              "        const buttonEl =\n",
              "          document.querySelector('#df-9dfc2b60-ab24-4e0b-a45b-15ff2fc38d13 button.colab-df-convert');\n",
              "        buttonEl.style.display =\n",
              "          google.colab.kernel.accessAllowed ? 'block' : 'none';\n",
              "\n",
              "        async function convertToInteractive(key) {\n",
              "          const element = document.querySelector('#df-9dfc2b60-ab24-4e0b-a45b-15ff2fc38d13');\n",
              "          const dataTable =\n",
              "            await google.colab.kernel.invokeFunction('convertToInteractive',\n",
              "                                                     [key], {});\n",
              "          if (!dataTable) return;\n",
              "\n",
              "          const docLinkHtml = 'Like what you see? Visit the ' +\n",
              "            '<a target=\"_blank\" href=https://colab.research.google.com/notebooks/data_table.ipynb>data table notebook</a>'\n",
              "            + ' to learn more about interactive tables.';\n",
              "          element.innerHTML = '';\n",
              "          dataTable['output_type'] = 'display_data';\n",
              "          await google.colab.output.renderOutput(dataTable, element);\n",
              "          const docLink = document.createElement('div');\n",
              "          docLink.innerHTML = docLinkHtml;\n",
              "          element.appendChild(docLink);\n",
              "        }\n",
              "      </script>\n",
              "    </div>\n",
              "  </div>\n",
              "  "
            ]
          },
          "metadata": {},
          "execution_count": 29
        }
      ]
    },
    {
      "cell_type": "markdown",
      "source": [
        "Grey's Anatomy is the longest TV Show with 16 Seasons"
      ],
      "metadata": {
        "id": "5mGSy1a_nUnC"
      }
    },
    {
      "cell_type": "markdown",
      "source": [
        "## **Feature Engineering**"
      ],
      "metadata": {
        "id": "A03CNG6ynXMg"
      }
    },
    {
      "cell_type": "markdown",
      "source": [
        "we will add all text based and categorical columns to cluster similar content based on text based features."
      ],
      "metadata": {
        "id": "xUN9HBbenaYl"
      }
    },
    {
      "cell_type": "code",
      "source": [
        "# We will add all categorical and text based columns\n",
        "df_1 = df.copy()\n",
        "df_1['text_info'] = df_1['listed_in'] +' '+ df_1['rating'] + ' ' + df_1['description']"
      ],
      "metadata": {
        "id": "BcaCCJ8ci2xJ"
      },
      "execution_count": 30,
      "outputs": []
    },
    {
      "cell_type": "code",
      "source": [
        "# Checking \n",
        "df_1['text_info'][0]"
      ],
      "metadata": {
        "colab": {
          "base_uri": "https://localhost:8080/",
          "height": 53
        },
        "id": "wQeLt0Hfne74",
        "outputId": "bba7346a-5404-4030-de2a-edad6f0df6f0"
      },
      "execution_count": 31,
      "outputs": [
        {
          "output_type": "execute_result",
          "data": {
            "text/plain": [
              "'International TV Shows, TV Dramas, TV Sci-Fi & Fantasy TV-MA In a future where the elite inhabit an island paradise far from the crowded slums, you get one chance to join the 3% saved from squalor.'"
            ],
            "application/vnd.google.colaboratory.intrinsic+json": {
              "type": "string"
            }
          },
          "metadata": {},
          "execution_count": 31
        }
      ]
    },
    {
      "cell_type": "markdown",
      "source": [
        "#### **Text Cleaning**"
      ],
      "metadata": {
        "id": "5a6dGgb5ruVY"
      }
    },
    {
      "cell_type": "code",
      "source": [
        "import re\n",
        "# Removing everything except the alphabets\n",
        "def clean_text(x):\n",
        "    return re.sub(r\"[^a-zA-Z ]\",\"\",str(x))"
      ],
      "metadata": {
        "id": "mpKSZR3vnhcA"
      },
      "execution_count": 37,
      "outputs": []
    },
    {
      "cell_type": "code",
      "source": [
        "# Applying above function on our combined column\n",
        "df_1['text_info'] = df_1['text_info'].apply(clean_text)"
      ],
      "metadata": {
        "id": "QRGpAC2ksE4e"
      },
      "execution_count": 38,
      "outputs": []
    },
    {
      "cell_type": "code",
      "source": [
        "# we will convert all words in lowercase\n",
        "df_1['text_info'] = df_1['text_info'].str.lower()"
      ],
      "metadata": {
        "id": "Z1qX4qxKsGyJ"
      },
      "execution_count": 39,
      "outputs": []
    },
    {
      "cell_type": "code",
      "source": [
        "# Checking \n",
        "df_1['text_info'][0]"
      ],
      "metadata": {
        "colab": {
          "base_uri": "https://localhost:8080/",
          "height": 53
        },
        "id": "iRTEZKGnsGpe",
        "outputId": "fa265f23-474b-4293-f89e-bdfaa855f268"
      },
      "execution_count": 40,
      "outputs": [
        {
          "output_type": "execute_result",
          "data": {
            "text/plain": [
              "'international tv shows tv dramas tv scifi  fantasy tvma in a future where the elite inhabit an island paradise far from the crowded slums you get one chance to join the  saved from squalor'"
            ],
            "application/vnd.google.colaboratory.intrinsic+json": {
              "type": "string"
            }
          },
          "metadata": {},
          "execution_count": 40
        }
      ]
    },
    {
      "cell_type": "markdown",
      "source": [
        "#### **WORD TOKENIZATION**"
      ],
      "metadata": {
        "id": "w0agDOcVsLXa"
      }
    },
    {
      "cell_type": "code",
      "source": [
        "# Applying Tokenization\n",
        "def tokenizer(txt):  \n",
        "  tokens = word_tokenize(txt) \n",
        "  return tokens\n",
        "df_1['Processed Text'] = df_1['text_info'].apply(tokenizer)"
      ],
      "metadata": {
        "id": "uOKSpeyssNnZ"
      },
      "execution_count": 41,
      "outputs": []
    },
    {
      "cell_type": "code",
      "source": [
        "print(df_1['Processed Text'][0])"
      ],
      "metadata": {
        "colab": {
          "base_uri": "https://localhost:8080/"
        },
        "id": "rbct3CswsPut",
        "outputId": "fe6c26c5-d6dc-4e88-cfec-1522c9c78ffe"
      },
      "execution_count": 42,
      "outputs": [
        {
          "output_type": "stream",
          "name": "stdout",
          "text": [
            "['international', 'tv', 'shows', 'tv', 'dramas', 'tv', 'scifi', 'fantasy', 'tvma', 'in', 'a', 'future', 'where', 'the', 'elite', 'inhabit', 'an', 'island', 'paradise', 'far', 'from', 'the', 'crowded', 'slums', 'you', 'get', 'one', 'chance', 'to', 'join', 'the', 'saved', 'from', 'squalor']\n"
          ]
        }
      ]
    },
    {
      "cell_type": "markdown",
      "source": [
        "#### **PUNCTUATION REMOVAL**"
      ],
      "metadata": {
        "id": "HJ9GhgXdsSV7"
      }
    },
    {
      "cell_type": "code",
      "source": [
        "# Applying function to remove Punctuation\n",
        "regular_punct = list(string.punctuation)\n",
        "def remove_punctuation(text,punct_list):\n",
        "  tokens = text\n",
        "  new_tok = []\n",
        "  for i in tokens:\n",
        "    word = i\n",
        "    for punctuation in list(string.punctuation):\n",
        "      word = word.replace(punctuation, ' ')\n",
        "    if word.replace(' ','').isalnum():\n",
        "      new_tok.append(word)\n",
        "\n",
        "  return ' '.join(new_tok).split(' ')\n",
        "\n",
        "df_1['Processed Text'] = df_1['Processed Text'].apply(lambda x : remove_punctuation(x, regular_punct))"
      ],
      "metadata": {
        "id": "oKtQlBWAsVgF"
      },
      "execution_count": 43,
      "outputs": []
    },
    {
      "cell_type": "markdown",
      "source": [
        "#### **STOP WORD REMOVAL**"
      ],
      "metadata": {
        "id": "Hfh0H8GksX_x"
      }
    },
    {
      "cell_type": "code",
      "source": [
        "# extracting the stopwords from nltk library\n",
        "sw = nltk.corpus.stopwords.words('english')\n",
        "# displaying the stopwords\n",
        "for i in sw:\n",
        "  print(i , end=',  ')"
      ],
      "metadata": {
        "colab": {
          "base_uri": "https://localhost:8080/"
        },
        "id": "luaHLjHWsZ41",
        "outputId": "bffa3a05-dbd0-4922-a038-a917f884d505"
      },
      "execution_count": 44,
      "outputs": [
        {
          "output_type": "stream",
          "name": "stdout",
          "text": [
            "i,  me,  my,  myself,  we,  our,  ours,  ourselves,  you,  you're,  you've,  you'll,  you'd,  your,  yours,  yourself,  yourselves,  he,  him,  his,  himself,  she,  she's,  her,  hers,  herself,  it,  it's,  its,  itself,  they,  them,  their,  theirs,  themselves,  what,  which,  who,  whom,  this,  that,  that'll,  these,  those,  am,  is,  are,  was,  were,  be,  been,  being,  have,  has,  had,  having,  do,  does,  did,  doing,  a,  an,  the,  and,  but,  if,  or,  because,  as,  until,  while,  of,  at,  by,  for,  with,  about,  against,  between,  into,  through,  during,  before,  after,  above,  below,  to,  from,  up,  down,  in,  out,  on,  off,  over,  under,  again,  further,  then,  once,  here,  there,  when,  where,  why,  how,  all,  any,  both,  each,  few,  more,  most,  other,  some,  such,  no,  nor,  not,  only,  own,  same,  so,  than,  too,  very,  s,  t,  can,  will,  just,  don,  don't,  should,  should've,  now,  d,  ll,  m,  o,  re,  ve,  y,  ain,  aren,  aren't,  couldn,  couldn't,  didn,  didn't,  doesn,  doesn't,  hadn,  hadn't,  hasn,  hasn't,  haven,  haven't,  isn,  isn't,  ma,  mightn,  mightn't,  mustn,  mustn't,  needn,  needn't,  shan,  shan't,  shouldn,  shouldn't,  wasn,  wasn't,  weren,  weren't,  won,  won't,  wouldn,  wouldn't,  "
          ]
        }
      ]
    },
    {
      "cell_type": "code",
      "source": [
        "# Applying function to remove Stop words\n",
        "stop_words = set(stopwords.words('english')) \n",
        "\n",
        "def remove_stop(tokens, stopwords):\n",
        "  return [t.lower() for t in tokens if t.lower() not in stopwords]\n",
        "\n",
        "df_1['Processed Text'] = df_1['Processed Text'].apply(lambda x : remove_stop(x, stop_words))"
      ],
      "metadata": {
        "id": "sRLOVclssb9O"
      },
      "execution_count": 45,
      "outputs": []
    },
    {
      "cell_type": "code",
      "source": [
        "print(df_1['Processed Text'][0])"
      ],
      "metadata": {
        "colab": {
          "base_uri": "https://localhost:8080/"
        },
        "id": "MtoNyaFmse3d",
        "outputId": "7eb5a4f2-734a-47b5-9923-628e96b6640a"
      },
      "execution_count": 46,
      "outputs": [
        {
          "output_type": "stream",
          "name": "stdout",
          "text": [
            "['international', 'tv', 'shows', 'tv', 'dramas', 'tv', 'scifi', 'fantasy', 'tvma', 'future', 'elite', 'inhabit', 'island', 'paradise', 'far', 'crowded', 'slums', 'get', 'one', 'chance', 'join', 'saved', 'squalor']\n"
          ]
        }
      ]
    },
    {
      "cell_type": "markdown",
      "source": [
        "#### **LEMMATIZATION**"
      ],
      "metadata": {
        "id": "c3juZYACts0f"
      }
    },
    {
      "cell_type": "markdown",
      "source": [
        "Lemmatization is a text normalization technique used in Natural Language Processing (NLP), that switches any kind of a word to its base root mode.\n",
        "\n",
        "Lemmatization is responsible for grouping different inflected forms of words into the root form, having the same meaning."
      ],
      "metadata": {
        "id": "c3Xcydl1txvu"
      }
    },
    {
      "cell_type": "code",
      "source": [
        "# Applying Lemmatization\n",
        "def clean_text(text):\n",
        "    le=WordNetLemmatizer()\n",
        "    word_tokens=word_tokenize(text)\n",
        "    tokens=[le.lemmatize(w) for w in word_tokens if w not in stopwords and len(w)>3]\n",
        "    cleaned_text=\" \".join(tokens)\n",
        "    return cleaned_text"
      ],
      "metadata": {
        "id": "dLOl0wtItsQT"
      },
      "execution_count": 47,
      "outputs": []
    },
    {
      "cell_type": "code",
      "source": [
        "le = WordNetLemmatizer()\n",
        "\n",
        "def stem_text(text):  \n",
        "  lemmatize = []\n",
        "  for word in text:\n",
        "    lemmatize.append(word)\n",
        "  return lemmatize\n",
        "\n",
        "df_1['Processed Text'] = df_1['Processed Text'].apply(lambda x : stem_text(x))"
      ],
      "metadata": {
        "id": "IiROgzXVt0VM"
      },
      "execution_count": 48,
      "outputs": []
    },
    {
      "cell_type": "code",
      "source": [
        "#join words fun\n",
        "def join_words(x):\n",
        "  return \" \".join(set(x))"
      ],
      "metadata": {
        "id": "bpmRCjPvt2Q0"
      },
      "execution_count": 49,
      "outputs": []
    },
    {
      "cell_type": "code",
      "source": [
        "#final column\n",
        "df_1['Processed Text'] = df_1['Processed Text'].apply(join_words)"
      ],
      "metadata": {
        "id": "jOFVrWpjt4YM"
      },
      "execution_count": 50,
      "outputs": []
    },
    {
      "cell_type": "code",
      "source": [
        "df_1['Processed Text']"
      ],
      "metadata": {
        "colab": {
          "base_uri": "https://localhost:8080/"
        },
        "id": "Q7q-hTHYt6Uc",
        "outputId": "75f2c425-2241-4674-c868-6cd7a2b29b8f"
      },
      "execution_count": 51,
      "outputs": [
        {
          "output_type": "execute_result",
          "data": {
            "text/plain": [
              "0       elite fantasy squalor slums tvma join scifi on...\n",
              "1       walks rescued tvma life earthquake mexico tryi...\n",
              "2       army thats jungle confront haunting r forced s...\n",
              "3       action fantasy dangerous brave group scifi mac...\n",
              "4       millions las brilliant swindling dramas vegas ...\n",
              "                              ...                        \n",
              "7782    zozo grief sweden grandparents lebanons tvma c...\n",
              "7783    dysfunctional international truth tycoons dram...\n",
              "7784    documentaries tvma streets african sights city...\n",
              "7785    finds competing competition looks amateurs sho...\n",
              "7786    documentary documentaries look behind mystique...\n",
              "Name: Processed Text, Length: 7770, dtype: object"
            ]
          },
          "metadata": {},
          "execution_count": 51
        }
      ]
    },
    {
      "cell_type": "code",
      "source": [
        "print(df_1['Processed Text'][0])"
      ],
      "metadata": {
        "colab": {
          "base_uri": "https://localhost:8080/"
        },
        "id": "5CPsljpZt77U",
        "outputId": "78474468-bf87-4a7a-e116-7a15d778d8a2"
      },
      "execution_count": 52,
      "outputs": [
        {
          "output_type": "stream",
          "name": "stdout",
          "text": [
            "elite fantasy squalor slums tvma join scifi one chance paradise shows far get saved international crowded inhabit island future dramas tv\n"
          ]
        }
      ]
    },
    {
      "cell_type": "markdown",
      "source": [
        "#### **TF-IDF-Term Frequency-Inverse Document Frequency**"
      ],
      "metadata": {
        "id": "jjbTJou2uAKJ"
      }
    },
    {
      "cell_type": "markdown",
      "source": [
        "Term frequency-inverse document frequency is a text vectorizer that transforms the text into a usable vector.\n",
        "\n",
        "**TF** - The term frequency is the number of occurrences of a specific term in a document. Term frequency indicates how important a specific term in a document. Term frequency represents every text from the data as a matrix whose rows are the number of documents and columns are the number of distinct terms throughout all documents.\n",
        "\n",
        "IDF - Document frequency is the number of documents containing a specific term. Document frequency indicates how common the term is.Inverse document frequency (IDF) is the weight of a term, it aims to reduce the weight of a term if the term’s occurrences are scattered throughout all the documents."
      ],
      "metadata": {
        "id": "GT72ukVAuCps"
      }
    },
    {
      "cell_type": "code",
      "source": [
        "# defining a variable to our dependent variable\n",
        "words = df_1['Processed Text']"
      ],
      "metadata": {
        "id": "pv8rVh7kt990"
      },
      "execution_count": 53,
      "outputs": []
    },
    {
      "cell_type": "code",
      "source": [
        "tfidf = TfidfVectorizer(max_features = 5000)    \n",
        "X = tfidf.fit_transform(words)"
      ],
      "metadata": {
        "id": "g6TAEDdvuQ8V"
      },
      "execution_count": 54,
      "outputs": []
    },
    {
      "cell_type": "code",
      "source": [
        "# convert X into array form for clustering\n",
        "X = X.toarray()"
      ],
      "metadata": {
        "id": "9S36bkROuSrs"
      },
      "execution_count": 55,
      "outputs": []
    },
    {
      "cell_type": "code",
      "source": [
        "X.shape"
      ],
      "metadata": {
        "colab": {
          "base_uri": "https://localhost:8080/"
        },
        "id": "FWfKCIMmuUOL",
        "outputId": "02ad4df0-b844-4364-c897-d04e4623750b"
      },
      "execution_count": 56,
      "outputs": [
        {
          "output_type": "execute_result",
          "data": {
            "text/plain": [
              "(7770, 5000)"
            ]
          },
          "metadata": {},
          "execution_count": 56
        }
      ]
    },
    {
      "cell_type": "code",
      "source": [],
      "metadata": {
        "id": "svIxHtPSuVtE"
      },
      "execution_count": null,
      "outputs": []
    }
  ]
}